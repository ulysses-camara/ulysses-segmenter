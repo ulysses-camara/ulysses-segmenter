{
 "cells": [
  {
   "cell_type": "markdown",
   "id": "22c5fcc4",
   "metadata": {},
   "source": [
    "## Iteractively refine dataset labels"
   ]
  },
  {
   "cell_type": "code",
   "execution_count": 2,
   "id": "a37d4994",
   "metadata": {
    "ExecuteTime": {
     "end_time": "2023-03-05T12:38:22.828679Z",
     "start_time": "2023-03-05T12:38:20.588691Z"
    },
    "scrolled": true
   },
   "outputs": [
    {
     "data": {
      "application/vnd.jupyter.widget-view+json": {
       "model_id": "fd336e8033b54ab894b7fcef88360858",
       "version_major": 2,
       "version_minor": 0
      },
      "text/plain": [
       "Instances until next dump:   0%|          | 0/20 [00:00<?, ?it/s]"
      ]
     },
     "metadata": {},
     "output_type": "display_data"
    }
   ],
   "source": [
    "import os\n",
    "import pathlib\n",
    "import typing as t\n",
    "import random\n",
    "import requests\n",
    "import json as json_package\n",
    "import collections\n",
    "import glob\n",
    "\n",
    "import IPython.display\n",
    "import ipywidgets\n",
    "import datasets\n",
    "import tokenizers\n",
    "import ipywidgets\n",
    "import colorama\n",
    "import tqdm\n",
    "\n",
    "import segmentador\n",
    "from config import *\n",
    "import interactive_labeling\n",
    "\n",
    "\n",
    "%load_ext autoreload\n",
    "%autoreload 2\n",
    "\n",
    "\n",
    "CN = colorama.Fore.RED\n",
    "CT = colorama.Fore.YELLOW\n",
    "CLN = colorama.Fore.CYAN\n",
    "CSR = colorama.Style.RESET_ALL\n",
    "\n",
    "\n",
    "VOCAB_SIZE = 6000\n",
    "AUTOSAVE_IN_N_INSTANCES = 20\n",
    "\n",
    "\n",
    "DATASET_SPLIT = \"test\"\n",
    "CACHED_INDEX_FILENAME = f\"emendas_variadas_{DATASET_SPLIT}_refined_indices.csv\"\n",
    "SKIPPED_INDEX_FILENAME = f\"emendas_variadas_{DATASET_SPLIT}_skipped_indices.csv\"\n",
    "BRUTE_DATASET_DIR = \"../data\"\n",
    "\n",
    "# TARGET_DATASET_NAME = f\"df_tokenized_split_0_120000_{VOCAB_SIZE}_resplit\"\n",
    "# TARGET_DATASET_NAME = \"ccjs_segmentados_train_test_splits\"\n",
    "TARGET_DATASET_NAME = \"emendas_variadas_segmentadas_train_test_splits\"\n",
    "\n",
    "REFINED_DATASET_DIR = os.path.join(BRUTE_DATASET_DIR, \"refined_datasets\", TARGET_DATASET_NAME)\n",
    "\n",
    "BRUTE_DATASET_URI = os.path.join(BRUTE_DATASET_DIR, TARGET_DATASET_NAME)\n",
    "CACHED_INDEX_URI = os.path.join(REFINED_DATASET_DIR, CACHED_INDEX_FILENAME)\n",
    "SKIPPED_INDEX_URI = os.path.join(REFINED_DATASET_DIR, SKIPPED_INDEX_FILENAME)\n",
    "\n",
    "\n",
    "assert BRUTE_DATASET_URI != REFINED_DATASET_DIR\n",
    "\n",
    "\n",
    "logit_model = segmentador.BERTSegmenter(\n",
    "    uri_model=f\"../segmenter_checkpoint_v2/4_{VOCAB_SIZE}_layer_model_finetuned_emendas\",\n",
    "    device=\"cpu\",\n",
    ")\n",
    "\n",
    "pbar_dump = tqdm.auto.tqdm(desc=\"Instances until next dump\", total=AUTOSAVE_IN_N_INSTANCES)\n",
    "it_counter = 0\n",
    "\n",
    "lock_save = False\n",
    "random.seed(17)"
   ]
  },
  {
   "cell_type": "code",
   "execution_count": 3,
   "id": "ce45e6a4",
   "metadata": {
    "ExecuteTime": {
     "end_time": "2023-03-05T12:38:24.196279Z",
     "start_time": "2023-03-05T12:38:24.140301Z"
    }
   },
   "outputs": [
    {
     "data": {
      "text/plain": [
       "6000"
      ]
     },
     "execution_count": 3,
     "metadata": {},
     "output_type": "execute_result"
    }
   ],
   "source": [
    "tokenizer = tokenizers.Tokenizer.from_file(f\"../tokenizers/{VOCAB_SIZE}_subwords/tokenizer.json\")\n",
    "tokenizer.get_vocab_size()"
   ]
  },
  {
   "cell_type": "markdown",
   "id": "a6686a2d",
   "metadata": {},
   "source": [
    "## Load dataset"
   ]
  },
  {
   "cell_type": "code",
   "execution_count": 4,
   "id": "cd40bb67",
   "metadata": {
    "ExecuteTime": {
     "end_time": "2023-03-05T12:38:26.555033Z",
     "start_time": "2023-03-05T12:38:26.028697Z"
    }
   },
   "outputs": [
    {
     "name": "stdout",
     "output_type": "stream",
     "text": [
      "Loaded 200 indices from disk.\n"
     ]
    },
    {
     "data": {
      "text/plain": [
       "DatasetDict({\n",
       "    train: Dataset({\n",
       "        features: ['input_ids', 'token_type_ids', 'attention_mask', 'labels'],\n",
       "        num_rows: 11871\n",
       "    })\n",
       "    test: Dataset({\n",
       "        features: ['input_ids', 'token_type_ids', 'attention_mask', 'labels'],\n",
       "        num_rows: 200\n",
       "    })\n",
       "})"
      ]
     },
     "execution_count": 4,
     "metadata": {},
     "output_type": "execute_result"
    }
   ],
   "source": [
    "try:\n",
    "    with open(CACHED_INDEX_URI, \"r\") as f_index:\n",
    "        cached_indices = set(map(int, f_index.read().split(\",\")))\n",
    "\n",
    "    print(f\"Loaded {len(cached_indices)} indices from disk.\")\n",
    "\n",
    "except FileNotFoundError:\n",
    "    cached_indices = set()\n",
    "\n",
    "\n",
    "try:\n",
    "    with open(SKIPPED_INDEX_URI, \"r\") as f_index:\n",
    "        skipped_indices = set(map(int, f_index.read().split(\",\")))\n",
    "\n",
    "    print(f\"Loaded {len(skipped_indices)} skipped indices from disk.\")\n",
    "\n",
    "except (FileNotFoundError, ValueError):\n",
    "    skipped_indices = set()\n",
    "\n",
    "\n",
    "new_refined_instances = collections.defaultdict(list)\n",
    "df_brute = datasets.load_from_disk(BRUTE_DATASET_URI)\n",
    "df_brute"
   ]
  },
  {
   "cell_type": "markdown",
   "id": "b82efc8c",
   "metadata": {},
   "source": [
    "## Iteractive refinement"
   ]
  },
  {
   "cell_type": "code",
   "execution_count": 4,
   "id": "7012a8e2",
   "metadata": {
    "ExecuteTime": {
     "end_time": "2023-02-28T10:25:34.753394Z",
     "start_time": "2023-02-28T10:25:34.523386Z"
    }
   },
   "outputs": [],
   "source": [
    "df_split = df_brute[DATASET_SPLIT]\n",
    "\n",
    "fn_rand = lambda: random.randint(0, df_split.num_rows)\n",
    "\n",
    "df_view_labels = df_split[\"labels\"]\n",
    "df_view_input_ids = df_split[\"input_ids\"]\n",
    "\n",
    "cls2id = {\n",
    "    \"no-op\": 0,\n",
    "    \"seg\": 1,\n",
    "    \"n-start\": 2,\n",
    "    \"n-end\": 3,\n",
    "}\n",
    "\n",
    "\n",
    "def print_labels(input_ids, labels, input_is_tokens: bool = False):\n",
    "    seg_counter = 1\n",
    "\n",
    "    print(end=CSR)\n",
    "    print(end=f\"{CLN}{seg_counter}.{CSR} \")\n",
    "\n",
    "    if not input_is_tokens:\n",
    "        tokens = list(map(tokenizer.id_to_token, input_ids))\n",
    "\n",
    "    else:\n",
    "        tokens = input_ids\n",
    "\n",
    "    for i, (tok, lab) in enumerate(zip(tokens, labels)):\n",
    "        if lab == cls2id[\"seg\"]:\n",
    "            seg_counter += 1\n",
    "            print(\"\\n\\n\", end=f\"{CLN}{seg_counter}.{CSR} \")\n",
    "\n",
    "        if lab == cls2id[\"n-start\"]:\n",
    "            print(end=CN)\n",
    "\n",
    "        if lab == cls2id[\"n-end\"]:\n",
    "            print(end=CSR)\n",
    "\n",
    "        print(tok, end=\" \")\n",
    "\n",
    "    return tokens\n",
    "\n",
    "\n",
    "def dump_refined_dataset():\n",
    "    new_subset = datasets.Dataset.from_dict(new_refined_instances, split=DATASET_SPLIT)\n",
    "    shard_id = len(glob.glob(os.path.join(REFINED_DATASET_DIR, f\"{DATASET_SPLIT}_*\")))\n",
    "    REFINED_DATASET_SHARD_URI = os.path.join(REFINED_DATASET_DIR, f\"{DATASET_SPLIT}_{shard_id}\")\n",
    "    new_subset.save_to_disk(REFINED_DATASET_SHARD_URI)\n",
    "    new_refined_instances.clear()\n",
    "\n",
    "    with open(CACHED_INDEX_URI, \"w\") as f_index:\n",
    "        f_index.write(\",\".join(map(str, sorted(cached_indices))))\n",
    "\n",
    "    with open(SKIPPED_INDEX_URI, \"w\") as f_index:\n",
    "        f_index.write(\",\".join(map(str, sorted(skipped_indices))))\n",
    "\n",
    "    it_counter = 0\n",
    "\n",
    "    print(f\"Saved progress in '{REFINED_DATASET_SHARD_URI}'.\")\n",
    "\n",
    "\n",
    "def fn_run_cell(index_shift: int):\n",
    "    js = IPython.display.Javascript(\n",
    "        f\"Jupyter.notebook.execute_cells([IPython.notebook.get_selected_index()+{index_shift}])\"\n",
    "    )\n",
    "    IPython.display.display(js)\n",
    "\n",
    "\n",
    "def fn_run_last_cell(_):\n",
    "    js = IPython.display.Javascript(\n",
    "        \"Jupyter.notebook.execute_cells([IPython.notebook.ncells() - 16])\"\n",
    "    )\n",
    "    IPython.display.display(js)\n",
    "\n",
    "\n",
    "def fn_skip_instance(_):\n",
    "    if id_ not in cached_indices:\n",
    "        skipped_indices.add(id_)\n",
    "        fn_run_cell(1)\n",
    "\n",
    "\n",
    "button_run_cell = ipywidgets.Button(\n",
    "    description=\"Fetch new instance\",\n",
    "    tooltip=\"Run cell below to fetch a random instance\",\n",
    "    layout=ipywidgets.Layout(width=\"20%\", height=\"48px\", margin=\"0 0 0 5%\"),\n",
    ")\n",
    "button_run_cell.on_click(lambda _: fn_run_cell(1))\n",
    "\n",
    "button_run_cell_b = ipywidgets.Button(\n",
    "    description=\"Fetch refined instance\",\n",
    "    tooltip=\"Fetch refined instance from front-end (run cell below)\",\n",
    "    style=dict(button_color=\"lightgreen\"),\n",
    ")\n",
    "button_run_cell_b.layout = button_run_cell.layout\n",
    "button_run_cell_b.on_click(lambda _: fn_run_cell(1))\n",
    "\n",
    "button_edit_instance = ipywidgets.Button(\n",
    "    description=\"Edit instance\",\n",
    "    tooltip=\"Send instance to interactive front-end for refinement\",\n",
    "    style=dict(button_color=\"lightblue\"),\n",
    ")\n",
    "button_edit_instance.layout = button_run_cell.layout\n",
    "button_edit_instance.on_click(lambda _: fn_run_cell(2))\n",
    "\n",
    "button_save = ipywidgets.Button(\n",
    "    description=\"Save test instance\",\n",
    "    style=dict(button_color=\"salmon\"),\n",
    "    tooltip=\"Run notebook last cell (triggers code to save instance in curated dataset)\",\n",
    ")\n",
    "button_save.layout = button_run_cell.layout\n",
    "button_save.on_click(fn_run_last_cell)\n",
    "\n",
    "button_skip = ipywidgets.Button(\n",
    "    description=\"Skip instance\",\n",
    "    style=dict(button_color=\"black\"),\n",
    "    tooltip=\"Skip instance\",\n",
    ")\n",
    "button_skip.layout = button_run_cell.layout\n",
    "button_skip.on_click(fn_skip_instance)"
   ]
  },
  {
   "cell_type": "code",
   "execution_count": 5,
   "id": "023d2a7f",
   "metadata": {
    "ExecuteTime": {
     "end_time": "2023-02-28T10:25:39.259268Z",
     "start_time": "2023-02-28T10:25:39.086768Z"
    },
    "scrolled": true
   },
   "outputs": [],
   "source": [
    "import scipy.special\n",
    "import numpy as np\n",
    "import tqdm\n",
    "import torch\n",
    "import transformers\n",
    "import os\n",
    "\n",
    "\n",
    "m = 140000 if DATASET_SPLIT == \"train\" else 2100\n",
    "k = 0\n",
    "cached_margins_filename = f\"cached_margins_emendas_variadas_{DATASET_SPLIT}_{m}_{k}.txt\"\n",
    "APPLY_ACTIVE_LEARNING = False\n",
    "\n",
    "\n",
    "if APPLY_ACTIVE_LEARNING and DATASET_SPLIT != \"test\":\n",
    "    logit_model._model = torch.load(\"bert_v2_4_layers_logit_model_finetuned_emendas7.pt\")\n",
    "    logit_model.model.to(\"cuda\")\n",
    "    logit_model.device = \"cuda\"\n",
    "    \n",
    "    if os.path.exists(cached_margins_filename):\n",
    "        with open(cached_margins_filename, \"r\") as f_in:\n",
    "            margins = np.asfarray(f_in.readlines())\n",
    "\n",
    "    else:\n",
    "        torch.cuda.empty_cache()\n",
    "        \n",
    "        margins = np.full(len(df_view_input_ids), fill_value=np.inf)\n",
    "\n",
    "        compute_diff_tokens = False\n",
    "        diff_80 = 0\n",
    "        total_tokens_80 = 1e-8\n",
    "\n",
    "        pbar = tqdm.auto.tqdm(\n",
    "            enumerate(df_view_input_ids[-1 - k : -m - 1 - k : -1], 1 + k),\n",
    "            total=min(m, len(df_view_input_ids) - k),\n",
    "        )\n",
    "\n",
    "        for i, text in pbar:\n",
    "            logits = logit_model(\n",
    "                tokenizer.decode(text),\n",
    "                batch_size=128,\n",
    "                return_logits=True,\n",
    "                regex_justificativa=\"@@@@@@\",\n",
    "            ).logits\n",
    "            \n",
    "            probs = scipy.special.softmax(logits, axis=-1)\n",
    "            margin = np.diff(np.sort(probs, axis=-1)[:, [-2, -1]]).ravel()\n",
    "\n",
    "            try:\n",
    "                true_labels = np.asarray(df_view_labels[-i], dtype=int)\n",
    "                not_middle_word = true_labels != -100\n",
    "\n",
    "                if compute_diff_tokens:\n",
    "                    try:\n",
    "                        margin_80_inds = np.flatnonzero(\n",
    "                            np.logical_and(not_middle_word, margin >= 0.90)\n",
    "                        )\n",
    "                        high_conf_preds = np.argmax(probs[margin_80_inds], axis=-1)\n",
    "                        diff_inds = np.flatnonzero(true_labels[margin_80_inds] != high_conf_preds)\n",
    "                        diff_80 += diff_inds.size\n",
    "                        total_tokens_80 += margin_80_inds.size\n",
    "\n",
    "                        if diff_inds.size:\n",
    "                            new_labels.append(\n",
    "                                (\n",
    "                                    i,\n",
    "                                    list(\n",
    "                                        zip(margin_80_inds[diff_inds], high_conf_preds[diff_inds])\n",
    "                                    ),\n",
    "                                )\n",
    "                            )\n",
    "\n",
    "                    except ValueError:\n",
    "                        pass\n",
    "\n",
    "                margin = margin[not_middle_word]\n",
    "\n",
    "            except IndexError as err:\n",
    "                margin = [np.inf, np.inf]\n",
    "\n",
    "            try:\n",
    "                margins[-i] = float(np.quantile(margin, 0.01))\n",
    "            except IndexError:\n",
    "                margins[-i] = 0.0\n",
    "\n",
    "            if compute_diff_tokens:\n",
    "                pbar.set_description(\n",
    "                    f\"50: {100. * diff_80 / total_tokens_80:.2f}% ({diff_80} of {int(total_tokens_80)})\"\n",
    "                )\n",
    "\n",
    "    ids_to_fetch = np.argsort(margins)"
   ]
  },
  {
   "cell_type": "code",
   "execution_count": 7,
   "id": "7944f79e",
   "metadata": {
    "ExecuteTime": {
     "end_time": "2023-02-27T15:51:34.712299Z",
     "start_time": "2023-02-27T15:51:34.687870Z"
    }
   },
   "outputs": [],
   "source": [
    "if APPLY_ACTIVE_LEARNING and not os.path.exists(cached_margins_filename):\n",
    "    with open(cached_margins_filename, \"w\") as f_out:\n",
    "        f_out.write(\"\\n\".join(map(lambda x: f\"{x:.6f}\", margins)))"
   ]
  },
  {
   "cell_type": "markdown",
   "id": "51cce84d",
   "metadata": {},
   "source": [
    "## Interative refinery with low margin (active learning)"
   ]
  },
  {
   "cell_type": "code",
   "execution_count": 6,
   "id": "25507c79",
   "metadata": {
    "ExecuteTime": {
     "end_time": "2023-02-28T10:25:43.332856Z",
     "start_time": "2023-02-28T10:25:43.311998Z"
    },
    "scrolled": true
   },
   "outputs": [
    {
     "data": {
      "application/vnd.jupyter.widget-view+json": {
       "model_id": "b031d227fe204e15a64d14aa59243110",
       "version_major": 2,
       "version_minor": 0
      },
      "text/plain": [
       "HBox(children=(Button(description='Fetch new instance', layout=Layout(height='48px', margin='0 0 0 5%', width=…"
      ]
     },
     "metadata": {},
     "output_type": "display_data"
    },
    {
     "data": {
      "application/javascript": [
       "Jupyter.notebook.execute_cells([IPython.notebook.get_selected_index()+1])"
      ],
      "text/plain": [
       "<IPython.core.display.Javascript object>"
      ]
     },
     "metadata": {},
     "output_type": "display_data"
    },
    {
     "data": {
      "application/javascript": [
       "Jupyter.notebook.execute_cells([IPython.notebook.get_selected_index()+1])"
      ],
      "text/plain": [
       "<IPython.core.display.Javascript object>"
      ]
     },
     "metadata": {},
     "output_type": "display_data"
    },
    {
     "data": {
      "application/javascript": [
       "Jupyter.notebook.execute_cells([IPython.notebook.get_selected_index()+1])"
      ],
      "text/plain": [
       "<IPython.core.display.Javascript object>"
      ]
     },
     "metadata": {},
     "output_type": "display_data"
    },
    {
     "data": {
      "application/javascript": [
       "Jupyter.notebook.execute_cells([IPython.notebook.get_selected_index()+1])"
      ],
      "text/plain": [
       "<IPython.core.display.Javascript object>"
      ]
     },
     "metadata": {},
     "output_type": "display_data"
    },
    {
     "data": {
      "application/javascript": [
       "Jupyter.notebook.execute_cells([IPython.notebook.get_selected_index()+1])"
      ],
      "text/plain": [
       "<IPython.core.display.Javascript object>"
      ]
     },
     "metadata": {},
     "output_type": "display_data"
    },
    {
     "data": {
      "application/javascript": [
       "Jupyter.notebook.execute_cells([IPython.notebook.get_selected_index()+1])"
      ],
      "text/plain": [
       "<IPython.core.display.Javascript object>"
      ]
     },
     "metadata": {},
     "output_type": "display_data"
    },
    {
     "data": {
      "application/javascript": [
       "Jupyter.notebook.execute_cells([IPython.notebook.get_selected_index()+1])"
      ],
      "text/plain": [
       "<IPython.core.display.Javascript object>"
      ]
     },
     "metadata": {},
     "output_type": "display_data"
    },
    {
     "data": {
      "application/javascript": [
       "Jupyter.notebook.execute_cells([IPython.notebook.get_selected_index()+1])"
      ],
      "text/plain": [
       "<IPython.core.display.Javascript object>"
      ]
     },
     "metadata": {},
     "output_type": "display_data"
    },
    {
     "data": {
      "application/javascript": [
       "Jupyter.notebook.execute_cells([IPython.notebook.get_selected_index()+1])"
      ],
      "text/plain": [
       "<IPython.core.display.Javascript object>"
      ]
     },
     "metadata": {},
     "output_type": "display_data"
    },
    {
     "data": {
      "application/javascript": [
       "Jupyter.notebook.execute_cells([IPython.notebook.get_selected_index()+1])"
      ],
      "text/plain": [
       "<IPython.core.display.Javascript object>"
      ]
     },
     "metadata": {},
     "output_type": "display_data"
    },
    {
     "data": {
      "application/javascript": [
       "Jupyter.notebook.execute_cells([IPython.notebook.get_selected_index()+1])"
      ],
      "text/plain": [
       "<IPython.core.display.Javascript object>"
      ]
     },
     "metadata": {},
     "output_type": "display_data"
    },
    {
     "data": {
      "application/javascript": [
       "Jupyter.notebook.execute_cells([IPython.notebook.get_selected_index()+1])"
      ],
      "text/plain": [
       "<IPython.core.display.Javascript object>"
      ]
     },
     "metadata": {},
     "output_type": "display_data"
    },
    {
     "data": {
      "application/javascript": [
       "Jupyter.notebook.execute_cells([IPython.notebook.get_selected_index()+1])"
      ],
      "text/plain": [
       "<IPython.core.display.Javascript object>"
      ]
     },
     "metadata": {},
     "output_type": "display_data"
    },
    {
     "data": {
      "application/javascript": [
       "Jupyter.notebook.execute_cells([IPython.notebook.get_selected_index()+2])"
      ],
      "text/plain": [
       "<IPython.core.display.Javascript object>"
      ]
     },
     "metadata": {},
     "output_type": "display_data"
    },
    {
     "data": {
      "application/javascript": [
       "Jupyter.notebook.execute_cells([IPython.notebook.get_selected_index()+1])"
      ],
      "text/plain": [
       "<IPython.core.display.Javascript object>"
      ]
     },
     "metadata": {},
     "output_type": "display_data"
    },
    {
     "data": {
      "application/javascript": [
       "Jupyter.notebook.execute_cells([IPython.notebook.get_selected_index()+2])"
      ],
      "text/plain": [
       "<IPython.core.display.Javascript object>"
      ]
     },
     "metadata": {},
     "output_type": "display_data"
    },
    {
     "data": {
      "application/javascript": [
       "Jupyter.notebook.execute_cells([IPython.notebook.get_selected_index()+1])"
      ],
      "text/plain": [
       "<IPython.core.display.Javascript object>"
      ]
     },
     "metadata": {},
     "output_type": "display_data"
    },
    {
     "data": {
      "application/javascript": [
       "Jupyter.notebook.execute_cells([IPython.notebook.get_selected_index()+2])"
      ],
      "text/plain": [
       "<IPython.core.display.Javascript object>"
      ]
     },
     "metadata": {},
     "output_type": "display_data"
    },
    {
     "data": {
      "application/javascript": [
       "Jupyter.notebook.execute_cells([IPython.notebook.get_selected_index()+1])"
      ],
      "text/plain": [
       "<IPython.core.display.Javascript object>"
      ]
     },
     "metadata": {},
     "output_type": "display_data"
    },
    {
     "data": {
      "application/javascript": [
       "Jupyter.notebook.execute_cells([IPython.notebook.get_selected_index()+2])"
      ],
      "text/plain": [
       "<IPython.core.display.Javascript object>"
      ]
     },
     "metadata": {},
     "output_type": "display_data"
    },
    {
     "data": {
      "application/javascript": [
       "Jupyter.notebook.execute_cells([IPython.notebook.get_selected_index()+1])"
      ],
      "text/plain": [
       "<IPython.core.display.Javascript object>"
      ]
     },
     "metadata": {},
     "output_type": "display_data"
    },
    {
     "data": {
      "application/javascript": [
       "Jupyter.notebook.execute_cells([IPython.notebook.get_selected_index()+2])"
      ],
      "text/plain": [
       "<IPython.core.display.Javascript object>"
      ]
     },
     "metadata": {},
     "output_type": "display_data"
    },
    {
     "data": {
      "application/javascript": [
       "Jupyter.notebook.execute_cells([IPython.notebook.get_selected_index()+1])"
      ],
      "text/plain": [
       "<IPython.core.display.Javascript object>"
      ]
     },
     "metadata": {},
     "output_type": "display_data"
    },
    {
     "data": {
      "application/javascript": [
       "Jupyter.notebook.execute_cells([IPython.notebook.get_selected_index()+2])"
      ],
      "text/plain": [
       "<IPython.core.display.Javascript object>"
      ]
     },
     "metadata": {},
     "output_type": "display_data"
    },
    {
     "data": {
      "application/javascript": [
       "Jupyter.notebook.execute_cells([IPython.notebook.get_selected_index()+1])"
      ],
      "text/plain": [
       "<IPython.core.display.Javascript object>"
      ]
     },
     "metadata": {},
     "output_type": "display_data"
    },
    {
     "data": {
      "application/javascript": [
       "Jupyter.notebook.execute_cells([IPython.notebook.get_selected_index()+2])"
      ],
      "text/plain": [
       "<IPython.core.display.Javascript object>"
      ]
     },
     "metadata": {},
     "output_type": "display_data"
    },
    {
     "data": {
      "application/javascript": [
       "Jupyter.notebook.execute_cells([IPython.notebook.get_selected_index()+1])"
      ],
      "text/plain": [
       "<IPython.core.display.Javascript object>"
      ]
     },
     "metadata": {},
     "output_type": "display_data"
    },
    {
     "data": {
      "application/javascript": [
       "Jupyter.notebook.execute_cells([IPython.notebook.get_selected_index()+2])"
      ],
      "text/plain": [
       "<IPython.core.display.Javascript object>"
      ]
     },
     "metadata": {},
     "output_type": "display_data"
    },
    {
     "data": {
      "application/javascript": [
       "Jupyter.notebook.execute_cells([IPython.notebook.get_selected_index()+1])"
      ],
      "text/plain": [
       "<IPython.core.display.Javascript object>"
      ]
     },
     "metadata": {},
     "output_type": "display_data"
    },
    {
     "data": {
      "application/javascript": [
       "Jupyter.notebook.execute_cells([IPython.notebook.get_selected_index()+2])"
      ],
      "text/plain": [
       "<IPython.core.display.Javascript object>"
      ]
     },
     "metadata": {},
     "output_type": "display_data"
    },
    {
     "data": {
      "application/javascript": [
       "Jupyter.notebook.execute_cells([IPython.notebook.get_selected_index()+1])"
      ],
      "text/plain": [
       "<IPython.core.display.Javascript object>"
      ]
     },
     "metadata": {},
     "output_type": "display_data"
    },
    {
     "data": {
      "application/javascript": [
       "Jupyter.notebook.execute_cells([IPython.notebook.get_selected_index()+2])"
      ],
      "text/plain": [
       "<IPython.core.display.Javascript object>"
      ]
     },
     "metadata": {},
     "output_type": "display_data"
    },
    {
     "data": {
      "application/javascript": [
       "Jupyter.notebook.execute_cells([IPython.notebook.get_selected_index()+1])"
      ],
      "text/plain": [
       "<IPython.core.display.Javascript object>"
      ]
     },
     "metadata": {},
     "output_type": "display_data"
    },
    {
     "data": {
      "application/javascript": [
       "Jupyter.notebook.execute_cells([IPython.notebook.get_selected_index()+2])"
      ],
      "text/plain": [
       "<IPython.core.display.Javascript object>"
      ]
     },
     "metadata": {},
     "output_type": "display_data"
    },
    {
     "data": {
      "application/javascript": [
       "Jupyter.notebook.execute_cells([IPython.notebook.get_selected_index()+1])"
      ],
      "text/plain": [
       "<IPython.core.display.Javascript object>"
      ]
     },
     "metadata": {},
     "output_type": "display_data"
    },
    {
     "data": {
      "application/javascript": [
       "Jupyter.notebook.execute_cells([IPython.notebook.get_selected_index()+2])"
      ],
      "text/plain": [
       "<IPython.core.display.Javascript object>"
      ]
     },
     "metadata": {},
     "output_type": "display_data"
    },
    {
     "data": {
      "application/javascript": [
       "Jupyter.notebook.execute_cells([IPython.notebook.get_selected_index()+1])"
      ],
      "text/plain": [
       "<IPython.core.display.Javascript object>"
      ]
     },
     "metadata": {},
     "output_type": "display_data"
    },
    {
     "data": {
      "application/javascript": [
       "Jupyter.notebook.execute_cells([IPython.notebook.get_selected_index()+2])"
      ],
      "text/plain": [
       "<IPython.core.display.Javascript object>"
      ]
     },
     "metadata": {},
     "output_type": "display_data"
    },
    {
     "data": {
      "application/javascript": [
       "Jupyter.notebook.execute_cells([IPython.notebook.get_selected_index()+1])"
      ],
      "text/plain": [
       "<IPython.core.display.Javascript object>"
      ]
     },
     "metadata": {},
     "output_type": "display_data"
    },
    {
     "data": {
      "application/javascript": [
       "Jupyter.notebook.execute_cells([IPython.notebook.get_selected_index()+2])"
      ],
      "text/plain": [
       "<IPython.core.display.Javascript object>"
      ]
     },
     "metadata": {},
     "output_type": "display_data"
    },
    {
     "data": {
      "application/javascript": [
       "Jupyter.notebook.execute_cells([IPython.notebook.get_selected_index()+1])"
      ],
      "text/plain": [
       "<IPython.core.display.Javascript object>"
      ]
     },
     "metadata": {},
     "output_type": "display_data"
    },
    {
     "data": {
      "application/javascript": [
       "Jupyter.notebook.execute_cells([IPython.notebook.get_selected_index()+2])"
      ],
      "text/plain": [
       "<IPython.core.display.Javascript object>"
      ]
     },
     "metadata": {},
     "output_type": "display_data"
    },
    {
     "data": {
      "application/javascript": [
       "Jupyter.notebook.execute_cells([IPython.notebook.get_selected_index()+1])"
      ],
      "text/plain": [
       "<IPython.core.display.Javascript object>"
      ]
     },
     "metadata": {},
     "output_type": "display_data"
    },
    {
     "data": {
      "application/javascript": [
       "Jupyter.notebook.execute_cells([IPython.notebook.get_selected_index()+2])"
      ],
      "text/plain": [
       "<IPython.core.display.Javascript object>"
      ]
     },
     "metadata": {},
     "output_type": "display_data"
    },
    {
     "data": {
      "application/javascript": [
       "Jupyter.notebook.execute_cells([IPython.notebook.get_selected_index()+1])"
      ],
      "text/plain": [
       "<IPython.core.display.Javascript object>"
      ]
     },
     "metadata": {},
     "output_type": "display_data"
    },
    {
     "data": {
      "application/javascript": [
       "Jupyter.notebook.execute_cells([IPython.notebook.get_selected_index()+2])"
      ],
      "text/plain": [
       "<IPython.core.display.Javascript object>"
      ]
     },
     "metadata": {},
     "output_type": "display_data"
    },
    {
     "data": {
      "application/javascript": [
       "Jupyter.notebook.execute_cells([IPython.notebook.get_selected_index()+1])"
      ],
      "text/plain": [
       "<IPython.core.display.Javascript object>"
      ]
     },
     "metadata": {},
     "output_type": "display_data"
    },
    {
     "data": {
      "application/javascript": [
       "Jupyter.notebook.execute_cells([IPython.notebook.get_selected_index()+2])"
      ],
      "text/plain": [
       "<IPython.core.display.Javascript object>"
      ]
     },
     "metadata": {},
     "output_type": "display_data"
    },
    {
     "data": {
      "application/javascript": [
       "Jupyter.notebook.execute_cells([IPython.notebook.get_selected_index()+1])"
      ],
      "text/plain": [
       "<IPython.core.display.Javascript object>"
      ]
     },
     "metadata": {},
     "output_type": "display_data"
    },
    {
     "data": {
      "application/javascript": [
       "Jupyter.notebook.execute_cells([IPython.notebook.get_selected_index()+2])"
      ],
      "text/plain": [
       "<IPython.core.display.Javascript object>"
      ]
     },
     "metadata": {},
     "output_type": "display_data"
    },
    {
     "data": {
      "application/javascript": [
       "Jupyter.notebook.execute_cells([IPython.notebook.get_selected_index()+1])"
      ],
      "text/plain": [
       "<IPython.core.display.Javascript object>"
      ]
     },
     "metadata": {},
     "output_type": "display_data"
    },
    {
     "data": {
      "application/javascript": [
       "Jupyter.notebook.execute_cells([IPython.notebook.get_selected_index()+2])"
      ],
      "text/plain": [
       "<IPython.core.display.Javascript object>"
      ]
     },
     "metadata": {},
     "output_type": "display_data"
    },
    {
     "data": {
      "application/javascript": [
       "Jupyter.notebook.execute_cells([IPython.notebook.get_selected_index()+1])"
      ],
      "text/plain": [
       "<IPython.core.display.Javascript object>"
      ]
     },
     "metadata": {},
     "output_type": "display_data"
    },
    {
     "data": {
      "application/javascript": [
       "Jupyter.notebook.execute_cells([IPython.notebook.get_selected_index()+2])"
      ],
      "text/plain": [
       "<IPython.core.display.Javascript object>"
      ]
     },
     "metadata": {},
     "output_type": "display_data"
    },
    {
     "data": {
      "application/javascript": [
       "Jupyter.notebook.execute_cells([IPython.notebook.get_selected_index()+1])"
      ],
      "text/plain": [
       "<IPython.core.display.Javascript object>"
      ]
     },
     "metadata": {},
     "output_type": "display_data"
    },
    {
     "data": {
      "application/javascript": [
       "Jupyter.notebook.execute_cells([IPython.notebook.get_selected_index()+2])"
      ],
      "text/plain": [
       "<IPython.core.display.Javascript object>"
      ]
     },
     "metadata": {},
     "output_type": "display_data"
    },
    {
     "data": {
      "application/javascript": [
       "Jupyter.notebook.execute_cells([IPython.notebook.get_selected_index()+1])"
      ],
      "text/plain": [
       "<IPython.core.display.Javascript object>"
      ]
     },
     "metadata": {},
     "output_type": "display_data"
    },
    {
     "data": {
      "application/javascript": [
       "Jupyter.notebook.execute_cells([IPython.notebook.get_selected_index()+2])"
      ],
      "text/plain": [
       "<IPython.core.display.Javascript object>"
      ]
     },
     "metadata": {},
     "output_type": "display_data"
    },
    {
     "data": {
      "application/javascript": [
       "Jupyter.notebook.execute_cells([IPython.notebook.get_selected_index()+1])"
      ],
      "text/plain": [
       "<IPython.core.display.Javascript object>"
      ]
     },
     "metadata": {},
     "output_type": "display_data"
    },
    {
     "data": {
      "application/javascript": [
       "Jupyter.notebook.execute_cells([IPython.notebook.get_selected_index()+2])"
      ],
      "text/plain": [
       "<IPython.core.display.Javascript object>"
      ]
     },
     "metadata": {},
     "output_type": "display_data"
    },
    {
     "data": {
      "application/javascript": [
       "Jupyter.notebook.execute_cells([IPython.notebook.get_selected_index()+2])"
      ],
      "text/plain": [
       "<IPython.core.display.Javascript object>"
      ]
     },
     "metadata": {},
     "output_type": "display_data"
    },
    {
     "data": {
      "application/javascript": [
       "Jupyter.notebook.execute_cells([IPython.notebook.get_selected_index()+2])"
      ],
      "text/plain": [
       "<IPython.core.display.Javascript object>"
      ]
     },
     "metadata": {},
     "output_type": "display_data"
    },
    {
     "data": {
      "application/javascript": [
       "Jupyter.notebook.execute_cells([IPython.notebook.get_selected_index()+1])"
      ],
      "text/plain": [
       "<IPython.core.display.Javascript object>"
      ]
     },
     "metadata": {},
     "output_type": "display_data"
    },
    {
     "data": {
      "application/javascript": [
       "Jupyter.notebook.execute_cells([IPython.notebook.get_selected_index()+2])"
      ],
      "text/plain": [
       "<IPython.core.display.Javascript object>"
      ]
     },
     "metadata": {},
     "output_type": "display_data"
    },
    {
     "data": {
      "application/javascript": [
       "Jupyter.notebook.execute_cells([IPython.notebook.get_selected_index()+1])"
      ],
      "text/plain": [
       "<IPython.core.display.Javascript object>"
      ]
     },
     "metadata": {},
     "output_type": "display_data"
    },
    {
     "data": {
      "application/javascript": [
       "Jupyter.notebook.execute_cells([IPython.notebook.get_selected_index()+2])"
      ],
      "text/plain": [
       "<IPython.core.display.Javascript object>"
      ]
     },
     "metadata": {},
     "output_type": "display_data"
    },
    {
     "data": {
      "application/javascript": [
       "Jupyter.notebook.execute_cells([IPython.notebook.get_selected_index()+1])"
      ],
      "text/plain": [
       "<IPython.core.display.Javascript object>"
      ]
     },
     "metadata": {},
     "output_type": "display_data"
    },
    {
     "data": {
      "application/javascript": [
       "Jupyter.notebook.execute_cells([IPython.notebook.get_selected_index()+2])"
      ],
      "text/plain": [
       "<IPython.core.display.Javascript object>"
      ]
     },
     "metadata": {},
     "output_type": "display_data"
    },
    {
     "data": {
      "application/javascript": [
       "Jupyter.notebook.execute_cells([IPython.notebook.get_selected_index()+1])"
      ],
      "text/plain": [
       "<IPython.core.display.Javascript object>"
      ]
     },
     "metadata": {},
     "output_type": "display_data"
    },
    {
     "data": {
      "application/javascript": [
       "Jupyter.notebook.execute_cells([IPython.notebook.get_selected_index()+2])"
      ],
      "text/plain": [
       "<IPython.core.display.Javascript object>"
      ]
     },
     "metadata": {},
     "output_type": "display_data"
    },
    {
     "data": {
      "application/javascript": [
       "Jupyter.notebook.execute_cells([IPython.notebook.get_selected_index()+1])"
      ],
      "text/plain": [
       "<IPython.core.display.Javascript object>"
      ]
     },
     "metadata": {},
     "output_type": "display_data"
    },
    {
     "data": {
      "application/javascript": [
       "Jupyter.notebook.execute_cells([IPython.notebook.get_selected_index()+2])"
      ],
      "text/plain": [
       "<IPython.core.display.Javascript object>"
      ]
     },
     "metadata": {},
     "output_type": "display_data"
    },
    {
     "data": {
      "application/javascript": [
       "Jupyter.notebook.execute_cells([IPython.notebook.get_selected_index()+1])"
      ],
      "text/plain": [
       "<IPython.core.display.Javascript object>"
      ]
     },
     "metadata": {},
     "output_type": "display_data"
    },
    {
     "data": {
      "application/javascript": [
       "Jupyter.notebook.execute_cells([IPython.notebook.get_selected_index()+2])"
      ],
      "text/plain": [
       "<IPython.core.display.Javascript object>"
      ]
     },
     "metadata": {},
     "output_type": "display_data"
    },
    {
     "data": {
      "application/javascript": [
       "Jupyter.notebook.execute_cells([IPython.notebook.get_selected_index()+1])"
      ],
      "text/plain": [
       "<IPython.core.display.Javascript object>"
      ]
     },
     "metadata": {},
     "output_type": "display_data"
    },
    {
     "data": {
      "application/javascript": [
       "Jupyter.notebook.execute_cells([IPython.notebook.get_selected_index()+2])"
      ],
      "text/plain": [
       "<IPython.core.display.Javascript object>"
      ]
     },
     "metadata": {},
     "output_type": "display_data"
    },
    {
     "data": {
      "application/javascript": [
       "Jupyter.notebook.execute_cells([IPython.notebook.get_selected_index()+1])"
      ],
      "text/plain": [
       "<IPython.core.display.Javascript object>"
      ]
     },
     "metadata": {},
     "output_type": "display_data"
    },
    {
     "data": {
      "application/javascript": [
       "Jupyter.notebook.execute_cells([IPython.notebook.get_selected_index()+2])"
      ],
      "text/plain": [
       "<IPython.core.display.Javascript object>"
      ]
     },
     "metadata": {},
     "output_type": "display_data"
    },
    {
     "data": {
      "application/javascript": [
       "Jupyter.notebook.execute_cells([IPython.notebook.get_selected_index()+1])"
      ],
      "text/plain": [
       "<IPython.core.display.Javascript object>"
      ]
     },
     "metadata": {},
     "output_type": "display_data"
    },
    {
     "data": {
      "application/javascript": [
       "Jupyter.notebook.execute_cells([IPython.notebook.get_selected_index()+2])"
      ],
      "text/plain": [
       "<IPython.core.display.Javascript object>"
      ]
     },
     "metadata": {},
     "output_type": "display_data"
    },
    {
     "data": {
      "application/javascript": [
       "Jupyter.notebook.execute_cells([IPython.notebook.get_selected_index()+1])"
      ],
      "text/plain": [
       "<IPython.core.display.Javascript object>"
      ]
     },
     "metadata": {},
     "output_type": "display_data"
    },
    {
     "data": {
      "application/javascript": [
       "Jupyter.notebook.execute_cells([IPython.notebook.get_selected_index()+2])"
      ],
      "text/plain": [
       "<IPython.core.display.Javascript object>"
      ]
     },
     "metadata": {},
     "output_type": "display_data"
    },
    {
     "data": {
      "application/javascript": [
       "Jupyter.notebook.execute_cells([IPython.notebook.get_selected_index()+1])"
      ],
      "text/plain": [
       "<IPython.core.display.Javascript object>"
      ]
     },
     "metadata": {},
     "output_type": "display_data"
    },
    {
     "data": {
      "application/javascript": [
       "Jupyter.notebook.execute_cells([IPython.notebook.get_selected_index()+2])"
      ],
      "text/plain": [
       "<IPython.core.display.Javascript object>"
      ]
     },
     "metadata": {},
     "output_type": "display_data"
    },
    {
     "data": {
      "application/javascript": [
       "Jupyter.notebook.execute_cells([IPython.notebook.get_selected_index()+1])"
      ],
      "text/plain": [
       "<IPython.core.display.Javascript object>"
      ]
     },
     "metadata": {},
     "output_type": "display_data"
    },
    {
     "data": {
      "application/javascript": [
       "Jupyter.notebook.execute_cells([IPython.notebook.get_selected_index()+2])"
      ],
      "text/plain": [
       "<IPython.core.display.Javascript object>"
      ]
     },
     "metadata": {},
     "output_type": "display_data"
    },
    {
     "data": {
      "application/javascript": [
       "Jupyter.notebook.execute_cells([IPython.notebook.get_selected_index()+1])"
      ],
      "text/plain": [
       "<IPython.core.display.Javascript object>"
      ]
     },
     "metadata": {},
     "output_type": "display_data"
    },
    {
     "data": {
      "application/javascript": [
       "Jupyter.notebook.execute_cells([IPython.notebook.get_selected_index()+2])"
      ],
      "text/plain": [
       "<IPython.core.display.Javascript object>"
      ]
     },
     "metadata": {},
     "output_type": "display_data"
    },
    {
     "data": {
      "application/javascript": [
       "Jupyter.notebook.execute_cells([IPython.notebook.get_selected_index()+1])"
      ],
      "text/plain": [
       "<IPython.core.display.Javascript object>"
      ]
     },
     "metadata": {},
     "output_type": "display_data"
    },
    {
     "data": {
      "application/javascript": [
       "Jupyter.notebook.execute_cells([IPython.notebook.get_selected_index()+2])"
      ],
      "text/plain": [
       "<IPython.core.display.Javascript object>"
      ]
     },
     "metadata": {},
     "output_type": "display_data"
    },
    {
     "data": {
      "application/javascript": [
       "Jupyter.notebook.execute_cells([IPython.notebook.get_selected_index()+1])"
      ],
      "text/plain": [
       "<IPython.core.display.Javascript object>"
      ]
     },
     "metadata": {},
     "output_type": "display_data"
    },
    {
     "data": {
      "application/javascript": [
       "Jupyter.notebook.execute_cells([IPython.notebook.get_selected_index()+2])"
      ],
      "text/plain": [
       "<IPython.core.display.Javascript object>"
      ]
     },
     "metadata": {},
     "output_type": "display_data"
    },
    {
     "data": {
      "application/javascript": [
       "Jupyter.notebook.execute_cells([IPython.notebook.get_selected_index()+1])"
      ],
      "text/plain": [
       "<IPython.core.display.Javascript object>"
      ]
     },
     "metadata": {},
     "output_type": "display_data"
    },
    {
     "data": {
      "application/javascript": [
       "Jupyter.notebook.execute_cells([IPython.notebook.get_selected_index()+2])"
      ],
      "text/plain": [
       "<IPython.core.display.Javascript object>"
      ]
     },
     "metadata": {},
     "output_type": "display_data"
    },
    {
     "data": {
      "application/javascript": [
       "Jupyter.notebook.execute_cells([IPython.notebook.get_selected_index()+1])"
      ],
      "text/plain": [
       "<IPython.core.display.Javascript object>"
      ]
     },
     "metadata": {},
     "output_type": "display_data"
    },
    {
     "data": {
      "application/javascript": [
       "Jupyter.notebook.execute_cells([IPython.notebook.get_selected_index()+2])"
      ],
      "text/plain": [
       "<IPython.core.display.Javascript object>"
      ]
     },
     "metadata": {},
     "output_type": "display_data"
    },
    {
     "data": {
      "application/javascript": [
       "Jupyter.notebook.execute_cells([IPython.notebook.get_selected_index()+1])"
      ],
      "text/plain": [
       "<IPython.core.display.Javascript object>"
      ]
     },
     "metadata": {},
     "output_type": "display_data"
    },
    {
     "data": {
      "application/javascript": [
       "Jupyter.notebook.execute_cells([IPython.notebook.get_selected_index()+2])"
      ],
      "text/plain": [
       "<IPython.core.display.Javascript object>"
      ]
     },
     "metadata": {},
     "output_type": "display_data"
    },
    {
     "data": {
      "application/javascript": [
       "Jupyter.notebook.execute_cells([IPython.notebook.get_selected_index()+1])"
      ],
      "text/plain": [
       "<IPython.core.display.Javascript object>"
      ]
     },
     "metadata": {},
     "output_type": "display_data"
    },
    {
     "data": {
      "application/javascript": [
       "Jupyter.notebook.execute_cells([IPython.notebook.get_selected_index()+2])"
      ],
      "text/plain": [
       "<IPython.core.display.Javascript object>"
      ]
     },
     "metadata": {},
     "output_type": "display_data"
    },
    {
     "data": {
      "application/javascript": [
       "Jupyter.notebook.execute_cells([IPython.notebook.get_selected_index()+1])"
      ],
      "text/plain": [
       "<IPython.core.display.Javascript object>"
      ]
     },
     "metadata": {},
     "output_type": "display_data"
    },
    {
     "data": {
      "application/javascript": [
       "Jupyter.notebook.execute_cells([IPython.notebook.get_selected_index()+2])"
      ],
      "text/plain": [
       "<IPython.core.display.Javascript object>"
      ]
     },
     "metadata": {},
     "output_type": "display_data"
    },
    {
     "data": {
      "application/javascript": [
       "Jupyter.notebook.execute_cells([IPython.notebook.get_selected_index()+1])"
      ],
      "text/plain": [
       "<IPython.core.display.Javascript object>"
      ]
     },
     "metadata": {},
     "output_type": "display_data"
    },
    {
     "data": {
      "application/javascript": [
       "Jupyter.notebook.execute_cells([IPython.notebook.get_selected_index()+2])"
      ],
      "text/plain": [
       "<IPython.core.display.Javascript object>"
      ]
     },
     "metadata": {},
     "output_type": "display_data"
    },
    {
     "data": {
      "application/javascript": [
       "Jupyter.notebook.execute_cells([IPython.notebook.get_selected_index()+1])"
      ],
      "text/plain": [
       "<IPython.core.display.Javascript object>"
      ]
     },
     "metadata": {},
     "output_type": "display_data"
    },
    {
     "data": {
      "application/javascript": [
       "Jupyter.notebook.execute_cells([IPython.notebook.get_selected_index()+2])"
      ],
      "text/plain": [
       "<IPython.core.display.Javascript object>"
      ]
     },
     "metadata": {},
     "output_type": "display_data"
    },
    {
     "data": {
      "application/javascript": [
       "Jupyter.notebook.execute_cells([IPython.notebook.get_selected_index()+1])"
      ],
      "text/plain": [
       "<IPython.core.display.Javascript object>"
      ]
     },
     "metadata": {},
     "output_type": "display_data"
    },
    {
     "data": {
      "application/javascript": [
       "Jupyter.notebook.execute_cells([IPython.notebook.get_selected_index()+2])"
      ],
      "text/plain": [
       "<IPython.core.display.Javascript object>"
      ]
     },
     "metadata": {},
     "output_type": "display_data"
    },
    {
     "data": {
      "application/javascript": [
       "Jupyter.notebook.execute_cells([IPython.notebook.get_selected_index()+1])"
      ],
      "text/plain": [
       "<IPython.core.display.Javascript object>"
      ]
     },
     "metadata": {},
     "output_type": "display_data"
    },
    {
     "data": {
      "application/javascript": [
       "Jupyter.notebook.execute_cells([IPython.notebook.get_selected_index()+2])"
      ],
      "text/plain": [
       "<IPython.core.display.Javascript object>"
      ]
     },
     "metadata": {},
     "output_type": "display_data"
    },
    {
     "data": {
      "application/javascript": [
       "Jupyter.notebook.execute_cells([IPython.notebook.get_selected_index()+1])"
      ],
      "text/plain": [
       "<IPython.core.display.Javascript object>"
      ]
     },
     "metadata": {},
     "output_type": "display_data"
    },
    {
     "data": {
      "application/javascript": [
       "Jupyter.notebook.execute_cells([IPython.notebook.get_selected_index()+2])"
      ],
      "text/plain": [
       "<IPython.core.display.Javascript object>"
      ]
     },
     "metadata": {},
     "output_type": "display_data"
    },
    {
     "data": {
      "application/javascript": [
       "Jupyter.notebook.execute_cells([IPython.notebook.get_selected_index()+1])"
      ],
      "text/plain": [
       "<IPython.core.display.Javascript object>"
      ]
     },
     "metadata": {},
     "output_type": "display_data"
    },
    {
     "data": {
      "application/javascript": [
       "Jupyter.notebook.execute_cells([IPython.notebook.get_selected_index()+2])"
      ],
      "text/plain": [
       "<IPython.core.display.Javascript object>"
      ]
     },
     "metadata": {},
     "output_type": "display_data"
    },
    {
     "data": {
      "application/javascript": [
       "Jupyter.notebook.execute_cells([IPython.notebook.get_selected_index()+1])"
      ],
      "text/plain": [
       "<IPython.core.display.Javascript object>"
      ]
     },
     "metadata": {},
     "output_type": "display_data"
    },
    {
     "data": {
      "application/javascript": [
       "Jupyter.notebook.execute_cells([IPython.notebook.get_selected_index()+2])"
      ],
      "text/plain": [
       "<IPython.core.display.Javascript object>"
      ]
     },
     "metadata": {},
     "output_type": "display_data"
    },
    {
     "data": {
      "application/javascript": [
       "Jupyter.notebook.execute_cells([IPython.notebook.get_selected_index()+1])"
      ],
      "text/plain": [
       "<IPython.core.display.Javascript object>"
      ]
     },
     "metadata": {},
     "output_type": "display_data"
    },
    {
     "data": {
      "application/javascript": [
       "Jupyter.notebook.execute_cells([IPython.notebook.get_selected_index()+2])"
      ],
      "text/plain": [
       "<IPython.core.display.Javascript object>"
      ]
     },
     "metadata": {},
     "output_type": "display_data"
    },
    {
     "data": {
      "application/javascript": [
       "Jupyter.notebook.execute_cells([IPython.notebook.get_selected_index()+1])"
      ],
      "text/plain": [
       "<IPython.core.display.Javascript object>"
      ]
     },
     "metadata": {},
     "output_type": "display_data"
    },
    {
     "data": {
      "application/javascript": [
       "Jupyter.notebook.execute_cells([IPython.notebook.get_selected_index()+2])"
      ],
      "text/plain": [
       "<IPython.core.display.Javascript object>"
      ]
     },
     "metadata": {},
     "output_type": "display_data"
    },
    {
     "data": {
      "application/javascript": [
       "Jupyter.notebook.execute_cells([IPython.notebook.get_selected_index()+1])"
      ],
      "text/plain": [
       "<IPython.core.display.Javascript object>"
      ]
     },
     "metadata": {},
     "output_type": "display_data"
    },
    {
     "data": {
      "application/javascript": [
       "Jupyter.notebook.execute_cells([IPython.notebook.get_selected_index()+2])"
      ],
      "text/plain": [
       "<IPython.core.display.Javascript object>"
      ]
     },
     "metadata": {},
     "output_type": "display_data"
    },
    {
     "data": {
      "application/javascript": [
       "Jupyter.notebook.execute_cells([IPython.notebook.get_selected_index()+1])"
      ],
      "text/plain": [
       "<IPython.core.display.Javascript object>"
      ]
     },
     "metadata": {},
     "output_type": "display_data"
    },
    {
     "data": {
      "application/javascript": [
       "Jupyter.notebook.execute_cells([IPython.notebook.get_selected_index()+2])"
      ],
      "text/plain": [
       "<IPython.core.display.Javascript object>"
      ]
     },
     "metadata": {},
     "output_type": "display_data"
    },
    {
     "data": {
      "application/javascript": [
       "Jupyter.notebook.execute_cells([IPython.notebook.get_selected_index()+1])"
      ],
      "text/plain": [
       "<IPython.core.display.Javascript object>"
      ]
     },
     "metadata": {},
     "output_type": "display_data"
    },
    {
     "data": {
      "application/javascript": [
       "Jupyter.notebook.execute_cells([IPython.notebook.get_selected_index()+2])"
      ],
      "text/plain": [
       "<IPython.core.display.Javascript object>"
      ]
     },
     "metadata": {},
     "output_type": "display_data"
    },
    {
     "data": {
      "application/javascript": [
       "Jupyter.notebook.execute_cells([IPython.notebook.get_selected_index()+2])"
      ],
      "text/plain": [
       "<IPython.core.display.Javascript object>"
      ]
     },
     "metadata": {},
     "output_type": "display_data"
    },
    {
     "data": {
      "application/javascript": [
       "Jupyter.notebook.execute_cells([IPython.notebook.get_selected_index()+1])"
      ],
      "text/plain": [
       "<IPython.core.display.Javascript object>"
      ]
     },
     "metadata": {},
     "output_type": "display_data"
    },
    {
     "data": {
      "application/javascript": [
       "Jupyter.notebook.execute_cells([IPython.notebook.get_selected_index()+2])"
      ],
      "text/plain": [
       "<IPython.core.display.Javascript object>"
      ]
     },
     "metadata": {},
     "output_type": "display_data"
    },
    {
     "data": {
      "application/javascript": [
       "Jupyter.notebook.execute_cells([IPython.notebook.get_selected_index()+1])"
      ],
      "text/plain": [
       "<IPython.core.display.Javascript object>"
      ]
     },
     "metadata": {},
     "output_type": "display_data"
    },
    {
     "data": {
      "application/javascript": [
       "Jupyter.notebook.execute_cells([IPython.notebook.get_selected_index()+2])"
      ],
      "text/plain": [
       "<IPython.core.display.Javascript object>"
      ]
     },
     "metadata": {},
     "output_type": "display_data"
    },
    {
     "data": {
      "application/javascript": [
       "Jupyter.notebook.execute_cells([IPython.notebook.get_selected_index()+1])"
      ],
      "text/plain": [
       "<IPython.core.display.Javascript object>"
      ]
     },
     "metadata": {},
     "output_type": "display_data"
    },
    {
     "data": {
      "application/javascript": [
       "Jupyter.notebook.execute_cells([IPython.notebook.get_selected_index()+2])"
      ],
      "text/plain": [
       "<IPython.core.display.Javascript object>"
      ]
     },
     "metadata": {},
     "output_type": "display_data"
    },
    {
     "data": {
      "application/javascript": [
       "Jupyter.notebook.execute_cells([IPython.notebook.get_selected_index()+1])"
      ],
      "text/plain": [
       "<IPython.core.display.Javascript object>"
      ]
     },
     "metadata": {},
     "output_type": "display_data"
    },
    {
     "data": {
      "application/javascript": [
       "Jupyter.notebook.execute_cells([IPython.notebook.get_selected_index()+2])"
      ],
      "text/plain": [
       "<IPython.core.display.Javascript object>"
      ]
     },
     "metadata": {},
     "output_type": "display_data"
    },
    {
     "data": {
      "application/javascript": [
       "Jupyter.notebook.execute_cells([IPython.notebook.get_selected_index()+1])"
      ],
      "text/plain": [
       "<IPython.core.display.Javascript object>"
      ]
     },
     "metadata": {},
     "output_type": "display_data"
    },
    {
     "data": {
      "application/javascript": [
       "Jupyter.notebook.execute_cells([IPython.notebook.get_selected_index()+2])"
      ],
      "text/plain": [
       "<IPython.core.display.Javascript object>"
      ]
     },
     "metadata": {},
     "output_type": "display_data"
    },
    {
     "data": {
      "application/javascript": [
       "Jupyter.notebook.execute_cells([IPython.notebook.get_selected_index()+1])"
      ],
      "text/plain": [
       "<IPython.core.display.Javascript object>"
      ]
     },
     "metadata": {},
     "output_type": "display_data"
    },
    {
     "data": {
      "application/javascript": [
       "Jupyter.notebook.execute_cells([IPython.notebook.get_selected_index()+2])"
      ],
      "text/plain": [
       "<IPython.core.display.Javascript object>"
      ]
     },
     "metadata": {},
     "output_type": "display_data"
    },
    {
     "data": {
      "application/javascript": [
       "Jupyter.notebook.execute_cells([IPython.notebook.get_selected_index()+1])"
      ],
      "text/plain": [
       "<IPython.core.display.Javascript object>"
      ]
     },
     "metadata": {},
     "output_type": "display_data"
    },
    {
     "data": {
      "application/javascript": [
       "Jupyter.notebook.execute_cells([IPython.notebook.get_selected_index()+2])"
      ],
      "text/plain": [
       "<IPython.core.display.Javascript object>"
      ]
     },
     "metadata": {},
     "output_type": "display_data"
    },
    {
     "data": {
      "application/javascript": [
       "Jupyter.notebook.execute_cells([IPython.notebook.get_selected_index()+1])"
      ],
      "text/plain": [
       "<IPython.core.display.Javascript object>"
      ]
     },
     "metadata": {},
     "output_type": "display_data"
    }
   ],
   "source": [
    "IPython.display.display(\n",
    "    ipywidgets.HBox((button_run_cell, button_edit_instance, button_save, button_skip))\n",
    ");"
   ]
  },
  {
   "cell_type": "code",
   "execution_count": 276,
   "id": "c3059c5e",
   "metadata": {
    "ExecuteTime": {
     "end_time": "2023-02-28T14:31:20.812662Z",
     "start_time": "2023-02-28T14:31:20.390555Z"
    },
    "scrolled": true
   },
   "outputs": [
    {
     "ename": "IndexError",
     "evalue": "list index out of range",
     "output_type": "error",
     "traceback": [
      "\u001b[0;31m---------------------------------------------------------------------------\u001b[0m",
      "\u001b[0;31mIndexError\u001b[0m                                Traceback (most recent call last)",
      "Input \u001b[0;32mIn [276]\u001b[0m, in \u001b[0;36m<cell line: 18>\u001b[0;34m()\u001b[0m\n\u001b[1;32m     13\u001b[0m     id_ \u001b[38;5;241m=\u001b[39m \u001b[38;5;28mint\u001b[39m(ids_to_fetch[j])\n\u001b[1;32m     16\u001b[0m \u001b[38;5;66;03m# id_ = np.random.randint(0, len(ids_to_fetch))\u001b[39;00m\n\u001b[0;32m---> 18\u001b[0m input_ids \u001b[38;5;241m=\u001b[39m \u001b[43mdf_view_input_ids\u001b[49m\u001b[43m[\u001b[49m\u001b[43mid_\u001b[49m\u001b[43m]\u001b[49m\n\u001b[1;32m     19\u001b[0m labels \u001b[38;5;241m=\u001b[39m df_view_labels[id_]\n\u001b[1;32m     20\u001b[0m \u001b[38;5;28mprint\u001b[39m(id_)\n",
      "\u001b[0;31mIndexError\u001b[0m: list index out of range"
     ]
    }
   ],
   "source": [
    "if not APPLY_ACTIVE_LEARNING or DATASET_SPLIT == \"test\":\n",
    "    j = 0\n",
    "    while j in cached_indices or j in skipped_indices:\n",
    "        j += 1\n",
    "\n",
    "    id_ = j\n",
    "\n",
    "else:\n",
    "    j = 0\n",
    "    while ids_to_fetch[j] in cached_indices or ids_to_fetch[j] in skipped_indices:\n",
    "        j += 1\n",
    "\n",
    "    id_ = int(ids_to_fetch[j])\n",
    "\n",
    "\n",
    "# id_ = np.random.randint(0, len(ids_to_fetch))\n",
    "    \n",
    "input_ids = df_view_input_ids[id_]\n",
    "labels = df_view_labels[id_]\n",
    "print(id_)\n",
    "tokens = print_labels(input_ids, labels)\n",
    "\n",
    "if APPLY_ACTIVE_LEARNING and DATASET_SPLIT != \"test\":\n",
    "    print(\"\\n\\nmargin:\", margins[ids_to_fetch[j]])"
   ]
  },
  {
   "cell_type": "code",
   "execution_count": 273,
   "id": "215cb81c",
   "metadata": {
    "ExecuteTime": {
     "end_time": "2023-02-28T14:30:20.437569Z",
     "start_time": "2023-02-28T14:30:20.288850Z"
    }
   },
   "outputs": [],
   "source": [
    "logits = logit_model(df_split[id_], return_logits=True, batch_size=32, regex_justificativa=\"@@@@\").logits\n",
    "interactive_labeling.open_example(\n",
    "    tokens, labels, logits=logits if DATASET_SPLIT != \"test\" else None\n",
    ")\n",
    "lock_save = True"
   ]
  },
  {
   "cell_type": "code",
   "execution_count": 7,
   "id": "1d8697d2",
   "metadata": {
    "ExecuteTime": {
     "end_time": "2023-02-28T10:25:46.661451Z",
     "start_time": "2023-02-28T10:25:46.639322Z"
    },
    "scrolled": false
   },
   "outputs": [
    {
     "data": {
      "application/vnd.jupyter.widget-view+json": {
       "model_id": "0e4d2970c3b84cb29199d727bb859a9f",
       "version_major": 2,
       "version_minor": 0
      },
      "text/plain": [
       "HBox(children=(Button(description='Fetch refined instance', layout=Layout(height='48px', margin='0 0 0 5%', wi…"
      ]
     },
     "metadata": {},
     "output_type": "display_data"
    },
    {
     "data": {
      "application/javascript": [
       "Jupyter.notebook.execute_cells([IPython.notebook.get_selected_index()+1])"
      ],
      "text/plain": [
       "<IPython.core.display.Javascript object>"
      ]
     },
     "metadata": {},
     "output_type": "display_data"
    },
    {
     "data": {
      "application/javascript": [
       "Jupyter.notebook.execute_cells([IPython.notebook.get_selected_index()+1])"
      ],
      "text/plain": [
       "<IPython.core.display.Javascript object>"
      ]
     },
     "metadata": {},
     "output_type": "display_data"
    },
    {
     "data": {
      "application/javascript": [
       "Jupyter.notebook.execute_cells([IPython.notebook.get_selected_index()+1])"
      ],
      "text/plain": [
       "<IPython.core.display.Javascript object>"
      ]
     },
     "metadata": {},
     "output_type": "display_data"
    },
    {
     "data": {
      "application/javascript": [
       "Jupyter.notebook.execute_cells([IPython.notebook.get_selected_index()+1])"
      ],
      "text/plain": [
       "<IPython.core.display.Javascript object>"
      ]
     },
     "metadata": {},
     "output_type": "display_data"
    },
    {
     "data": {
      "application/javascript": [
       "Jupyter.notebook.execute_cells([IPython.notebook.ncells() - 16])"
      ],
      "text/plain": [
       "<IPython.core.display.Javascript object>"
      ]
     },
     "metadata": {},
     "output_type": "display_data"
    },
    {
     "data": {
      "application/javascript": [
       "Jupyter.notebook.execute_cells([IPython.notebook.get_selected_index()+1])"
      ],
      "text/plain": [
       "<IPython.core.display.Javascript object>"
      ]
     },
     "metadata": {},
     "output_type": "display_data"
    },
    {
     "data": {
      "application/javascript": [
       "Jupyter.notebook.execute_cells([IPython.notebook.ncells() - 16])"
      ],
      "text/plain": [
       "<IPython.core.display.Javascript object>"
      ]
     },
     "metadata": {},
     "output_type": "display_data"
    },
    {
     "data": {
      "application/javascript": [
       "Jupyter.notebook.execute_cells([IPython.notebook.get_selected_index()+1])"
      ],
      "text/plain": [
       "<IPython.core.display.Javascript object>"
      ]
     },
     "metadata": {},
     "output_type": "display_data"
    },
    {
     "data": {
      "application/javascript": [
       "Jupyter.notebook.execute_cells([IPython.notebook.ncells() - 16])"
      ],
      "text/plain": [
       "<IPython.core.display.Javascript object>"
      ]
     },
     "metadata": {},
     "output_type": "display_data"
    },
    {
     "data": {
      "application/javascript": [
       "Jupyter.notebook.execute_cells([IPython.notebook.get_selected_index()+1])"
      ],
      "text/plain": [
       "<IPython.core.display.Javascript object>"
      ]
     },
     "metadata": {},
     "output_type": "display_data"
    },
    {
     "data": {
      "application/javascript": [
       "Jupyter.notebook.execute_cells([IPython.notebook.ncells() - 16])"
      ],
      "text/plain": [
       "<IPython.core.display.Javascript object>"
      ]
     },
     "metadata": {},
     "output_type": "display_data"
    },
    {
     "data": {
      "application/javascript": [
       "Jupyter.notebook.execute_cells([IPython.notebook.get_selected_index()+1])"
      ],
      "text/plain": [
       "<IPython.core.display.Javascript object>"
      ]
     },
     "metadata": {},
     "output_type": "display_data"
    },
    {
     "data": {
      "application/javascript": [
       "Jupyter.notebook.execute_cells([IPython.notebook.ncells() - 16])"
      ],
      "text/plain": [
       "<IPython.core.display.Javascript object>"
      ]
     },
     "metadata": {},
     "output_type": "display_data"
    },
    {
     "data": {
      "application/javascript": [
       "Jupyter.notebook.execute_cells([IPython.notebook.get_selected_index()+1])"
      ],
      "text/plain": [
       "<IPython.core.display.Javascript object>"
      ]
     },
     "metadata": {},
     "output_type": "display_data"
    },
    {
     "data": {
      "application/javascript": [
       "Jupyter.notebook.execute_cells([IPython.notebook.ncells() - 16])"
      ],
      "text/plain": [
       "<IPython.core.display.Javascript object>"
      ]
     },
     "metadata": {},
     "output_type": "display_data"
    },
    {
     "data": {
      "application/javascript": [
       "Jupyter.notebook.execute_cells([IPython.notebook.get_selected_index()+1])"
      ],
      "text/plain": [
       "<IPython.core.display.Javascript object>"
      ]
     },
     "metadata": {},
     "output_type": "display_data"
    },
    {
     "data": {
      "application/javascript": [
       "Jupyter.notebook.execute_cells([IPython.notebook.ncells() - 16])"
      ],
      "text/plain": [
       "<IPython.core.display.Javascript object>"
      ]
     },
     "metadata": {},
     "output_type": "display_data"
    },
    {
     "data": {
      "application/javascript": [
       "Jupyter.notebook.execute_cells([IPython.notebook.get_selected_index()+1])"
      ],
      "text/plain": [
       "<IPython.core.display.Javascript object>"
      ]
     },
     "metadata": {},
     "output_type": "display_data"
    },
    {
     "data": {
      "application/javascript": [
       "Jupyter.notebook.execute_cells([IPython.notebook.ncells() - 16])"
      ],
      "text/plain": [
       "<IPython.core.display.Javascript object>"
      ]
     },
     "metadata": {},
     "output_type": "display_data"
    },
    {
     "data": {
      "application/javascript": [
       "Jupyter.notebook.execute_cells([IPython.notebook.get_selected_index()+1])"
      ],
      "text/plain": [
       "<IPython.core.display.Javascript object>"
      ]
     },
     "metadata": {},
     "output_type": "display_data"
    },
    {
     "data": {
      "application/javascript": [
       "Jupyter.notebook.execute_cells([IPython.notebook.ncells() - 16])"
      ],
      "text/plain": [
       "<IPython.core.display.Javascript object>"
      ]
     },
     "metadata": {},
     "output_type": "display_data"
    },
    {
     "data": {
      "application/javascript": [
       "Jupyter.notebook.execute_cells([IPython.notebook.get_selected_index()+1])"
      ],
      "text/plain": [
       "<IPython.core.display.Javascript object>"
      ]
     },
     "metadata": {},
     "output_type": "display_data"
    },
    {
     "data": {
      "application/javascript": [
       "Jupyter.notebook.execute_cells([IPython.notebook.ncells() - 16])"
      ],
      "text/plain": [
       "<IPython.core.display.Javascript object>"
      ]
     },
     "metadata": {},
     "output_type": "display_data"
    },
    {
     "data": {
      "application/javascript": [
       "Jupyter.notebook.execute_cells([IPython.notebook.get_selected_index()+1])"
      ],
      "text/plain": [
       "<IPython.core.display.Javascript object>"
      ]
     },
     "metadata": {},
     "output_type": "display_data"
    },
    {
     "data": {
      "application/javascript": [
       "Jupyter.notebook.execute_cells([IPython.notebook.ncells() - 16])"
      ],
      "text/plain": [
       "<IPython.core.display.Javascript object>"
      ]
     },
     "metadata": {},
     "output_type": "display_data"
    },
    {
     "data": {
      "application/javascript": [
       "Jupyter.notebook.execute_cells([IPython.notebook.get_selected_index()+1])"
      ],
      "text/plain": [
       "<IPython.core.display.Javascript object>"
      ]
     },
     "metadata": {},
     "output_type": "display_data"
    },
    {
     "data": {
      "application/javascript": [
       "Jupyter.notebook.execute_cells([IPython.notebook.ncells() - 16])"
      ],
      "text/plain": [
       "<IPython.core.display.Javascript object>"
      ]
     },
     "metadata": {},
     "output_type": "display_data"
    },
    {
     "data": {
      "application/javascript": [
       "Jupyter.notebook.execute_cells([IPython.notebook.get_selected_index()+1])"
      ],
      "text/plain": [
       "<IPython.core.display.Javascript object>"
      ]
     },
     "metadata": {},
     "output_type": "display_data"
    },
    {
     "data": {
      "application/javascript": [
       "Jupyter.notebook.execute_cells([IPython.notebook.ncells() - 16])"
      ],
      "text/plain": [
       "<IPython.core.display.Javascript object>"
      ]
     },
     "metadata": {},
     "output_type": "display_data"
    },
    {
     "data": {
      "application/javascript": [
       "Jupyter.notebook.execute_cells([IPython.notebook.get_selected_index()+1])"
      ],
      "text/plain": [
       "<IPython.core.display.Javascript object>"
      ]
     },
     "metadata": {},
     "output_type": "display_data"
    },
    {
     "data": {
      "application/javascript": [
       "Jupyter.notebook.execute_cells([IPython.notebook.ncells() - 16])"
      ],
      "text/plain": [
       "<IPython.core.display.Javascript object>"
      ]
     },
     "metadata": {},
     "output_type": "display_data"
    },
    {
     "data": {
      "application/javascript": [
       "Jupyter.notebook.execute_cells([IPython.notebook.get_selected_index()+1])"
      ],
      "text/plain": [
       "<IPython.core.display.Javascript object>"
      ]
     },
     "metadata": {},
     "output_type": "display_data"
    },
    {
     "data": {
      "application/javascript": [
       "Jupyter.notebook.execute_cells([IPython.notebook.ncells() - 16])"
      ],
      "text/plain": [
       "<IPython.core.display.Javascript object>"
      ]
     },
     "metadata": {},
     "output_type": "display_data"
    },
    {
     "data": {
      "application/javascript": [
       "Jupyter.notebook.execute_cells([IPython.notebook.get_selected_index()+1])"
      ],
      "text/plain": [
       "<IPython.core.display.Javascript object>"
      ]
     },
     "metadata": {},
     "output_type": "display_data"
    },
    {
     "data": {
      "application/javascript": [
       "Jupyter.notebook.execute_cells([IPython.notebook.ncells() - 16])"
      ],
      "text/plain": [
       "<IPython.core.display.Javascript object>"
      ]
     },
     "metadata": {},
     "output_type": "display_data"
    },
    {
     "data": {
      "application/javascript": [
       "Jupyter.notebook.execute_cells([IPython.notebook.get_selected_index()+1])"
      ],
      "text/plain": [
       "<IPython.core.display.Javascript object>"
      ]
     },
     "metadata": {},
     "output_type": "display_data"
    },
    {
     "data": {
      "application/javascript": [
       "Jupyter.notebook.execute_cells([IPython.notebook.ncells() - 16])"
      ],
      "text/plain": [
       "<IPython.core.display.Javascript object>"
      ]
     },
     "metadata": {},
     "output_type": "display_data"
    },
    {
     "data": {
      "application/javascript": [
       "Jupyter.notebook.execute_cells([IPython.notebook.get_selected_index()+1])"
      ],
      "text/plain": [
       "<IPython.core.display.Javascript object>"
      ]
     },
     "metadata": {},
     "output_type": "display_data"
    },
    {
     "data": {
      "application/javascript": [
       "Jupyter.notebook.execute_cells([IPython.notebook.ncells() - 16])"
      ],
      "text/plain": [
       "<IPython.core.display.Javascript object>"
      ]
     },
     "metadata": {},
     "output_type": "display_data"
    },
    {
     "data": {
      "application/javascript": [
       "Jupyter.notebook.execute_cells([IPython.notebook.get_selected_index()+1])"
      ],
      "text/plain": [
       "<IPython.core.display.Javascript object>"
      ]
     },
     "metadata": {},
     "output_type": "display_data"
    },
    {
     "data": {
      "application/javascript": [
       "Jupyter.notebook.execute_cells([IPython.notebook.ncells() - 16])"
      ],
      "text/plain": [
       "<IPython.core.display.Javascript object>"
      ]
     },
     "metadata": {},
     "output_type": "display_data"
    },
    {
     "data": {
      "application/javascript": [
       "Jupyter.notebook.execute_cells([IPython.notebook.get_selected_index()+1])"
      ],
      "text/plain": [
       "<IPython.core.display.Javascript object>"
      ]
     },
     "metadata": {},
     "output_type": "display_data"
    },
    {
     "data": {
      "application/javascript": [
       "Jupyter.notebook.execute_cells([IPython.notebook.ncells() - 16])"
      ],
      "text/plain": [
       "<IPython.core.display.Javascript object>"
      ]
     },
     "metadata": {},
     "output_type": "display_data"
    },
    {
     "data": {
      "application/javascript": [
       "Jupyter.notebook.execute_cells([IPython.notebook.get_selected_index()+1])"
      ],
      "text/plain": [
       "<IPython.core.display.Javascript object>"
      ]
     },
     "metadata": {},
     "output_type": "display_data"
    },
    {
     "data": {
      "application/javascript": [
       "Jupyter.notebook.execute_cells([IPython.notebook.ncells() - 16])"
      ],
      "text/plain": [
       "<IPython.core.display.Javascript object>"
      ]
     },
     "metadata": {},
     "output_type": "display_data"
    },
    {
     "data": {
      "application/javascript": [
       "Jupyter.notebook.execute_cells([IPython.notebook.get_selected_index()+1])"
      ],
      "text/plain": [
       "<IPython.core.display.Javascript object>"
      ]
     },
     "metadata": {},
     "output_type": "display_data"
    },
    {
     "data": {
      "application/javascript": [
       "Jupyter.notebook.execute_cells([IPython.notebook.get_selected_index()+1])"
      ],
      "text/plain": [
       "<IPython.core.display.Javascript object>"
      ]
     },
     "metadata": {},
     "output_type": "display_data"
    },
    {
     "data": {
      "application/javascript": [
       "Jupyter.notebook.execute_cells([IPython.notebook.get_selected_index()+1])"
      ],
      "text/plain": [
       "<IPython.core.display.Javascript object>"
      ]
     },
     "metadata": {},
     "output_type": "display_data"
    },
    {
     "data": {
      "application/javascript": [
       "Jupyter.notebook.execute_cells([IPython.notebook.get_selected_index()+1])"
      ],
      "text/plain": [
       "<IPython.core.display.Javascript object>"
      ]
     },
     "metadata": {},
     "output_type": "display_data"
    },
    {
     "data": {
      "application/javascript": [
       "Jupyter.notebook.execute_cells([IPython.notebook.ncells() - 16])"
      ],
      "text/plain": [
       "<IPython.core.display.Javascript object>"
      ]
     },
     "metadata": {},
     "output_type": "display_data"
    },
    {
     "data": {
      "application/javascript": [
       "Jupyter.notebook.execute_cells([IPython.notebook.get_selected_index()+1])"
      ],
      "text/plain": [
       "<IPython.core.display.Javascript object>"
      ]
     },
     "metadata": {},
     "output_type": "display_data"
    },
    {
     "data": {
      "application/javascript": [
       "Jupyter.notebook.execute_cells([IPython.notebook.ncells() - 16])"
      ],
      "text/plain": [
       "<IPython.core.display.Javascript object>"
      ]
     },
     "metadata": {},
     "output_type": "display_data"
    },
    {
     "data": {
      "application/javascript": [
       "Jupyter.notebook.execute_cells([IPython.notebook.get_selected_index()+1])"
      ],
      "text/plain": [
       "<IPython.core.display.Javascript object>"
      ]
     },
     "metadata": {},
     "output_type": "display_data"
    },
    {
     "data": {
      "application/javascript": [
       "Jupyter.notebook.execute_cells([IPython.notebook.ncells() - 16])"
      ],
      "text/plain": [
       "<IPython.core.display.Javascript object>"
      ]
     },
     "metadata": {},
     "output_type": "display_data"
    },
    {
     "data": {
      "application/javascript": [
       "Jupyter.notebook.execute_cells([IPython.notebook.get_selected_index()+1])"
      ],
      "text/plain": [
       "<IPython.core.display.Javascript object>"
      ]
     },
     "metadata": {},
     "output_type": "display_data"
    },
    {
     "data": {
      "application/javascript": [
       "Jupyter.notebook.execute_cells([IPython.notebook.ncells() - 16])"
      ],
      "text/plain": [
       "<IPython.core.display.Javascript object>"
      ]
     },
     "metadata": {},
     "output_type": "display_data"
    },
    {
     "data": {
      "application/javascript": [
       "Jupyter.notebook.execute_cells([IPython.notebook.get_selected_index()+1])"
      ],
      "text/plain": [
       "<IPython.core.display.Javascript object>"
      ]
     },
     "metadata": {},
     "output_type": "display_data"
    },
    {
     "data": {
      "application/javascript": [
       "Jupyter.notebook.execute_cells([IPython.notebook.ncells() - 16])"
      ],
      "text/plain": [
       "<IPython.core.display.Javascript object>"
      ]
     },
     "metadata": {},
     "output_type": "display_data"
    },
    {
     "data": {
      "application/javascript": [
       "Jupyter.notebook.execute_cells([IPython.notebook.get_selected_index()+1])"
      ],
      "text/plain": [
       "<IPython.core.display.Javascript object>"
      ]
     },
     "metadata": {},
     "output_type": "display_data"
    },
    {
     "data": {
      "application/javascript": [
       "Jupyter.notebook.execute_cells([IPython.notebook.ncells() - 16])"
      ],
      "text/plain": [
       "<IPython.core.display.Javascript object>"
      ]
     },
     "metadata": {},
     "output_type": "display_data"
    },
    {
     "data": {
      "application/javascript": [
       "Jupyter.notebook.execute_cells([IPython.notebook.get_selected_index()+1])"
      ],
      "text/plain": [
       "<IPython.core.display.Javascript object>"
      ]
     },
     "metadata": {},
     "output_type": "display_data"
    },
    {
     "data": {
      "application/javascript": [
       "Jupyter.notebook.execute_cells([IPython.notebook.ncells() - 16])"
      ],
      "text/plain": [
       "<IPython.core.display.Javascript object>"
      ]
     },
     "metadata": {},
     "output_type": "display_data"
    },
    {
     "data": {
      "application/javascript": [
       "Jupyter.notebook.execute_cells([IPython.notebook.get_selected_index()+1])"
      ],
      "text/plain": [
       "<IPython.core.display.Javascript object>"
      ]
     },
     "metadata": {},
     "output_type": "display_data"
    },
    {
     "data": {
      "application/javascript": [
       "Jupyter.notebook.execute_cells([IPython.notebook.ncells() - 16])"
      ],
      "text/plain": [
       "<IPython.core.display.Javascript object>"
      ]
     },
     "metadata": {},
     "output_type": "display_data"
    },
    {
     "data": {
      "application/javascript": [
       "Jupyter.notebook.execute_cells([IPython.notebook.get_selected_index()+1])"
      ],
      "text/plain": [
       "<IPython.core.display.Javascript object>"
      ]
     },
     "metadata": {},
     "output_type": "display_data"
    },
    {
     "data": {
      "application/javascript": [
       "Jupyter.notebook.execute_cells([IPython.notebook.ncells() - 16])"
      ],
      "text/plain": [
       "<IPython.core.display.Javascript object>"
      ]
     },
     "metadata": {},
     "output_type": "display_data"
    },
    {
     "data": {
      "application/javascript": [
       "Jupyter.notebook.execute_cells([IPython.notebook.get_selected_index()+1])"
      ],
      "text/plain": [
       "<IPython.core.display.Javascript object>"
      ]
     },
     "metadata": {},
     "output_type": "display_data"
    },
    {
     "data": {
      "application/javascript": [
       "Jupyter.notebook.execute_cells([IPython.notebook.ncells() - 16])"
      ],
      "text/plain": [
       "<IPython.core.display.Javascript object>"
      ]
     },
     "metadata": {},
     "output_type": "display_data"
    },
    {
     "data": {
      "application/javascript": [
       "Jupyter.notebook.execute_cells([IPython.notebook.get_selected_index()+1])"
      ],
      "text/plain": [
       "<IPython.core.display.Javascript object>"
      ]
     },
     "metadata": {},
     "output_type": "display_data"
    },
    {
     "data": {
      "application/javascript": [
       "Jupyter.notebook.execute_cells([IPython.notebook.ncells() - 16])"
      ],
      "text/plain": [
       "<IPython.core.display.Javascript object>"
      ]
     },
     "metadata": {},
     "output_type": "display_data"
    },
    {
     "data": {
      "application/javascript": [
       "Jupyter.notebook.execute_cells([IPython.notebook.get_selected_index()+1])"
      ],
      "text/plain": [
       "<IPython.core.display.Javascript object>"
      ]
     },
     "metadata": {},
     "output_type": "display_data"
    },
    {
     "data": {
      "application/javascript": [
       "Jupyter.notebook.execute_cells([IPython.notebook.ncells() - 16])"
      ],
      "text/plain": [
       "<IPython.core.display.Javascript object>"
      ]
     },
     "metadata": {},
     "output_type": "display_data"
    },
    {
     "data": {
      "application/javascript": [
       "Jupyter.notebook.execute_cells([IPython.notebook.get_selected_index()+1])"
      ],
      "text/plain": [
       "<IPython.core.display.Javascript object>"
      ]
     },
     "metadata": {},
     "output_type": "display_data"
    },
    {
     "data": {
      "application/javascript": [
       "Jupyter.notebook.execute_cells([IPython.notebook.ncells() - 16])"
      ],
      "text/plain": [
       "<IPython.core.display.Javascript object>"
      ]
     },
     "metadata": {},
     "output_type": "display_data"
    },
    {
     "data": {
      "application/javascript": [
       "Jupyter.notebook.execute_cells([IPython.notebook.get_selected_index()+1])"
      ],
      "text/plain": [
       "<IPython.core.display.Javascript object>"
      ]
     },
     "metadata": {},
     "output_type": "display_data"
    },
    {
     "data": {
      "application/javascript": [
       "Jupyter.notebook.execute_cells([IPython.notebook.ncells() - 16])"
      ],
      "text/plain": [
       "<IPython.core.display.Javascript object>"
      ]
     },
     "metadata": {},
     "output_type": "display_data"
    },
    {
     "data": {
      "application/javascript": [
       "Jupyter.notebook.execute_cells([IPython.notebook.get_selected_index()+1])"
      ],
      "text/plain": [
       "<IPython.core.display.Javascript object>"
      ]
     },
     "metadata": {},
     "output_type": "display_data"
    },
    {
     "data": {
      "application/javascript": [
       "Jupyter.notebook.execute_cells([IPython.notebook.ncells() - 16])"
      ],
      "text/plain": [
       "<IPython.core.display.Javascript object>"
      ]
     },
     "metadata": {},
     "output_type": "display_data"
    },
    {
     "data": {
      "application/javascript": [
       "Jupyter.notebook.execute_cells([IPython.notebook.get_selected_index()+1])"
      ],
      "text/plain": [
       "<IPython.core.display.Javascript object>"
      ]
     },
     "metadata": {},
     "output_type": "display_data"
    },
    {
     "data": {
      "application/javascript": [
       "Jupyter.notebook.execute_cells([IPython.notebook.ncells() - 16])"
      ],
      "text/plain": [
       "<IPython.core.display.Javascript object>"
      ]
     },
     "metadata": {},
     "output_type": "display_data"
    },
    {
     "data": {
      "application/javascript": [
       "Jupyter.notebook.execute_cells([IPython.notebook.get_selected_index()+1])"
      ],
      "text/plain": [
       "<IPython.core.display.Javascript object>"
      ]
     },
     "metadata": {},
     "output_type": "display_data"
    },
    {
     "data": {
      "application/javascript": [
       "Jupyter.notebook.execute_cells([IPython.notebook.ncells() - 16])"
      ],
      "text/plain": [
       "<IPython.core.display.Javascript object>"
      ]
     },
     "metadata": {},
     "output_type": "display_data"
    },
    {
     "data": {
      "application/javascript": [
       "Jupyter.notebook.execute_cells([IPython.notebook.get_selected_index()+1])"
      ],
      "text/plain": [
       "<IPython.core.display.Javascript object>"
      ]
     },
     "metadata": {},
     "output_type": "display_data"
    },
    {
     "data": {
      "application/javascript": [
       "Jupyter.notebook.execute_cells([IPython.notebook.ncells() - 16])"
      ],
      "text/plain": [
       "<IPython.core.display.Javascript object>"
      ]
     },
     "metadata": {},
     "output_type": "display_data"
    },
    {
     "data": {
      "application/javascript": [
       "Jupyter.notebook.execute_cells([IPython.notebook.get_selected_index()+1])"
      ],
      "text/plain": [
       "<IPython.core.display.Javascript object>"
      ]
     },
     "metadata": {},
     "output_type": "display_data"
    },
    {
     "data": {
      "application/javascript": [
       "Jupyter.notebook.execute_cells([IPython.notebook.ncells() - 16])"
      ],
      "text/plain": [
       "<IPython.core.display.Javascript object>"
      ]
     },
     "metadata": {},
     "output_type": "display_data"
    },
    {
     "data": {
      "application/javascript": [
       "Jupyter.notebook.execute_cells([IPython.notebook.get_selected_index()+1])"
      ],
      "text/plain": [
       "<IPython.core.display.Javascript object>"
      ]
     },
     "metadata": {},
     "output_type": "display_data"
    },
    {
     "data": {
      "application/javascript": [
       "Jupyter.notebook.execute_cells([IPython.notebook.ncells() - 16])"
      ],
      "text/plain": [
       "<IPython.core.display.Javascript object>"
      ]
     },
     "metadata": {},
     "output_type": "display_data"
    },
    {
     "data": {
      "application/javascript": [
       "Jupyter.notebook.execute_cells([IPython.notebook.get_selected_index()+1])"
      ],
      "text/plain": [
       "<IPython.core.display.Javascript object>"
      ]
     },
     "metadata": {},
     "output_type": "display_data"
    },
    {
     "data": {
      "application/javascript": [
       "Jupyter.notebook.execute_cells([IPython.notebook.ncells() - 16])"
      ],
      "text/plain": [
       "<IPython.core.display.Javascript object>"
      ]
     },
     "metadata": {},
     "output_type": "display_data"
    },
    {
     "data": {
      "application/javascript": [
       "Jupyter.notebook.execute_cells([IPython.notebook.get_selected_index()+1])"
      ],
      "text/plain": [
       "<IPython.core.display.Javascript object>"
      ]
     },
     "metadata": {},
     "output_type": "display_data"
    },
    {
     "data": {
      "application/javascript": [
       "Jupyter.notebook.execute_cells([IPython.notebook.ncells() - 16])"
      ],
      "text/plain": [
       "<IPython.core.display.Javascript object>"
      ]
     },
     "metadata": {},
     "output_type": "display_data"
    },
    {
     "data": {
      "application/javascript": [
       "Jupyter.notebook.execute_cells([IPython.notebook.get_selected_index()+1])"
      ],
      "text/plain": [
       "<IPython.core.display.Javascript object>"
      ]
     },
     "metadata": {},
     "output_type": "display_data"
    },
    {
     "data": {
      "application/javascript": [
       "Jupyter.notebook.execute_cells([IPython.notebook.ncells() - 16])"
      ],
      "text/plain": [
       "<IPython.core.display.Javascript object>"
      ]
     },
     "metadata": {},
     "output_type": "display_data"
    },
    {
     "data": {
      "application/javascript": [
       "Jupyter.notebook.execute_cells([IPython.notebook.get_selected_index()+1])"
      ],
      "text/plain": [
       "<IPython.core.display.Javascript object>"
      ]
     },
     "metadata": {},
     "output_type": "display_data"
    },
    {
     "data": {
      "application/javascript": [
       "Jupyter.notebook.execute_cells([IPython.notebook.ncells() - 16])"
      ],
      "text/plain": [
       "<IPython.core.display.Javascript object>"
      ]
     },
     "metadata": {},
     "output_type": "display_data"
    },
    {
     "data": {
      "application/javascript": [
       "Jupyter.notebook.execute_cells([IPython.notebook.get_selected_index()+1])"
      ],
      "text/plain": [
       "<IPython.core.display.Javascript object>"
      ]
     },
     "metadata": {},
     "output_type": "display_data"
    },
    {
     "data": {
      "application/javascript": [
       "Jupyter.notebook.execute_cells([IPython.notebook.ncells() - 16])"
      ],
      "text/plain": [
       "<IPython.core.display.Javascript object>"
      ]
     },
     "metadata": {},
     "output_type": "display_data"
    },
    {
     "data": {
      "application/javascript": [
       "Jupyter.notebook.execute_cells([IPython.notebook.get_selected_index()+1])"
      ],
      "text/plain": [
       "<IPython.core.display.Javascript object>"
      ]
     },
     "metadata": {},
     "output_type": "display_data"
    },
    {
     "data": {
      "application/javascript": [
       "Jupyter.notebook.execute_cells([IPython.notebook.ncells() - 16])"
      ],
      "text/plain": [
       "<IPython.core.display.Javascript object>"
      ]
     },
     "metadata": {},
     "output_type": "display_data"
    },
    {
     "data": {
      "application/javascript": [
       "Jupyter.notebook.execute_cells([IPython.notebook.get_selected_index()+1])"
      ],
      "text/plain": [
       "<IPython.core.display.Javascript object>"
      ]
     },
     "metadata": {},
     "output_type": "display_data"
    },
    {
     "data": {
      "application/javascript": [
       "Jupyter.notebook.execute_cells([IPython.notebook.ncells() - 16])"
      ],
      "text/plain": [
       "<IPython.core.display.Javascript object>"
      ]
     },
     "metadata": {},
     "output_type": "display_data"
    },
    {
     "data": {
      "application/javascript": [
       "Jupyter.notebook.execute_cells([IPython.notebook.get_selected_index()+1])"
      ],
      "text/plain": [
       "<IPython.core.display.Javascript object>"
      ]
     },
     "metadata": {},
     "output_type": "display_data"
    },
    {
     "data": {
      "application/javascript": [
       "Jupyter.notebook.execute_cells([IPython.notebook.ncells() - 16])"
      ],
      "text/plain": [
       "<IPython.core.display.Javascript object>"
      ]
     },
     "metadata": {},
     "output_type": "display_data"
    },
    {
     "data": {
      "application/javascript": [
       "Jupyter.notebook.execute_cells([IPython.notebook.get_selected_index()+1])"
      ],
      "text/plain": [
       "<IPython.core.display.Javascript object>"
      ]
     },
     "metadata": {},
     "output_type": "display_data"
    },
    {
     "data": {
      "application/javascript": [
       "Jupyter.notebook.execute_cells([IPython.notebook.ncells() - 16])"
      ],
      "text/plain": [
       "<IPython.core.display.Javascript object>"
      ]
     },
     "metadata": {},
     "output_type": "display_data"
    },
    {
     "data": {
      "application/javascript": [
       "Jupyter.notebook.execute_cells([IPython.notebook.get_selected_index()+1])"
      ],
      "text/plain": [
       "<IPython.core.display.Javascript object>"
      ]
     },
     "metadata": {},
     "output_type": "display_data"
    },
    {
     "data": {
      "application/javascript": [
       "Jupyter.notebook.execute_cells([IPython.notebook.ncells() - 16])"
      ],
      "text/plain": [
       "<IPython.core.display.Javascript object>"
      ]
     },
     "metadata": {},
     "output_type": "display_data"
    },
    {
     "data": {
      "application/javascript": [
       "Jupyter.notebook.execute_cells([IPython.notebook.get_selected_index()+1])"
      ],
      "text/plain": [
       "<IPython.core.display.Javascript object>"
      ]
     },
     "metadata": {},
     "output_type": "display_data"
    },
    {
     "data": {
      "application/javascript": [
       "Jupyter.notebook.execute_cells([IPython.notebook.ncells() - 16])"
      ],
      "text/plain": [
       "<IPython.core.display.Javascript object>"
      ]
     },
     "metadata": {},
     "output_type": "display_data"
    },
    {
     "data": {
      "application/javascript": [
       "Jupyter.notebook.execute_cells([IPython.notebook.get_selected_index()+1])"
      ],
      "text/plain": [
       "<IPython.core.display.Javascript object>"
      ]
     },
     "metadata": {},
     "output_type": "display_data"
    },
    {
     "data": {
      "application/javascript": [
       "Jupyter.notebook.execute_cells([IPython.notebook.get_selected_index()+1])"
      ],
      "text/plain": [
       "<IPython.core.display.Javascript object>"
      ]
     },
     "metadata": {},
     "output_type": "display_data"
    },
    {
     "data": {
      "application/javascript": [
       "Jupyter.notebook.execute_cells([IPython.notebook.ncells() - 16])"
      ],
      "text/plain": [
       "<IPython.core.display.Javascript object>"
      ]
     },
     "metadata": {},
     "output_type": "display_data"
    },
    {
     "data": {
      "application/javascript": [
       "Jupyter.notebook.execute_cells([IPython.notebook.get_selected_index()+1])"
      ],
      "text/plain": [
       "<IPython.core.display.Javascript object>"
      ]
     },
     "metadata": {},
     "output_type": "display_data"
    },
    {
     "data": {
      "application/javascript": [
       "Jupyter.notebook.execute_cells([IPython.notebook.ncells() - 16])"
      ],
      "text/plain": [
       "<IPython.core.display.Javascript object>"
      ]
     },
     "metadata": {},
     "output_type": "display_data"
    },
    {
     "data": {
      "application/javascript": [
       "Jupyter.notebook.execute_cells([IPython.notebook.get_selected_index()+1])"
      ],
      "text/plain": [
       "<IPython.core.display.Javascript object>"
      ]
     },
     "metadata": {},
     "output_type": "display_data"
    },
    {
     "data": {
      "application/javascript": [
       "Jupyter.notebook.execute_cells([IPython.notebook.ncells() - 16])"
      ],
      "text/plain": [
       "<IPython.core.display.Javascript object>"
      ]
     },
     "metadata": {},
     "output_type": "display_data"
    },
    {
     "data": {
      "application/javascript": [
       "Jupyter.notebook.execute_cells([IPython.notebook.get_selected_index()+1])"
      ],
      "text/plain": [
       "<IPython.core.display.Javascript object>"
      ]
     },
     "metadata": {},
     "output_type": "display_data"
    },
    {
     "data": {
      "application/javascript": [
       "Jupyter.notebook.execute_cells([IPython.notebook.ncells() - 16])"
      ],
      "text/plain": [
       "<IPython.core.display.Javascript object>"
      ]
     },
     "metadata": {},
     "output_type": "display_data"
    },
    {
     "data": {
      "application/javascript": [
       "Jupyter.notebook.execute_cells([IPython.notebook.get_selected_index()+1])"
      ],
      "text/plain": [
       "<IPython.core.display.Javascript object>"
      ]
     },
     "metadata": {},
     "output_type": "display_data"
    },
    {
     "data": {
      "application/javascript": [
       "Jupyter.notebook.execute_cells([IPython.notebook.ncells() - 16])"
      ],
      "text/plain": [
       "<IPython.core.display.Javascript object>"
      ]
     },
     "metadata": {},
     "output_type": "display_data"
    },
    {
     "data": {
      "application/javascript": [
       "Jupyter.notebook.execute_cells([IPython.notebook.get_selected_index()+1])"
      ],
      "text/plain": [
       "<IPython.core.display.Javascript object>"
      ]
     },
     "metadata": {},
     "output_type": "display_data"
    },
    {
     "data": {
      "application/javascript": [
       "Jupyter.notebook.execute_cells([IPython.notebook.ncells() - 16])"
      ],
      "text/plain": [
       "<IPython.core.display.Javascript object>"
      ]
     },
     "metadata": {},
     "output_type": "display_data"
    },
    {
     "data": {
      "application/javascript": [
       "Jupyter.notebook.execute_cells([IPython.notebook.get_selected_index()+1])"
      ],
      "text/plain": [
       "<IPython.core.display.Javascript object>"
      ]
     },
     "metadata": {},
     "output_type": "display_data"
    },
    {
     "data": {
      "application/javascript": [
       "Jupyter.notebook.execute_cells([IPython.notebook.ncells() - 16])"
      ],
      "text/plain": [
       "<IPython.core.display.Javascript object>"
      ]
     },
     "metadata": {},
     "output_type": "display_data"
    },
    {
     "data": {
      "application/javascript": [
       "Jupyter.notebook.execute_cells([IPython.notebook.get_selected_index()+1])"
      ],
      "text/plain": [
       "<IPython.core.display.Javascript object>"
      ]
     },
     "metadata": {},
     "output_type": "display_data"
    },
    {
     "data": {
      "application/javascript": [
       "Jupyter.notebook.execute_cells([IPython.notebook.ncells() - 16])"
      ],
      "text/plain": [
       "<IPython.core.display.Javascript object>"
      ]
     },
     "metadata": {},
     "output_type": "display_data"
    }
   ],
   "source": [
    "IPython.display.display(ipywidgets.HBox((button_run_cell_b, button_save)));"
   ]
  },
  {
   "cell_type": "code",
   "execution_count": 274,
   "id": "c4a1aa26",
   "metadata": {
    "ExecuteTime": {
     "end_time": "2023-02-28T14:31:07.921236Z",
     "start_time": "2023-02-28T14:31:07.868355Z"
    },
    "scrolled": true
   },
   "outputs": [
    {
     "name": "stdout",
     "output_type": "stream",
     "text": [
      "\u001b[0m\u001b[36m1.\u001b[0m nº 6 , de 20 de março de 2020 , e dá outras providências . \n",
      "\n",
      "\u001b[36m2.\u001b[0m Ass ##inar ##am eletr ##on ##icamente o documento CD ##20 ##69 ##55 ##10 ##76 ##00 , nesta ordem : \n",
      "\n",
      "\u001b[36m3.\u001b[0m 1 Dep . João Ro ##ma ( RE ##P ##U ##BL ##IC / BA ) \n",
      "\n",
      "\u001b[36m4.\u001b[0m 2 Dep . J ##ho ##na ##ta ##n de J ##esus ( RE ##P ##U ##BL ##IC / R ##R ) - L ##Í ##DE ##R do RE ##P ##U ##BL ##IC \u001b[31m* - ( P _ 50 ##2 ##7 ) \n",
      "\n",
      "\u001b[36m5.\u001b[0m 3 Dep . E ##ri ##k ##a K ##o ##k ##a ##y ( PT / DF ) \n",
      "\n",
      "\u001b[36m6.\u001b[0m 4 Dep . Ped ##ro Lu ##p ##ion ( DEM / PR ) - VI ##CE - L ##Í ##DE ##R do B ##lo ##co PL , PP , PSD , M ##DB , DEM , SO ##L ##ID ##AR ##I ##ED ##AD ##E , PT ##B , PRO ##S , A ##VA ##N ##TE \u001b[31m* Ch ##ance ##la eletr ##ônica do ( a ) deput ##ado ( a ) , nos termos de deleg ##ação regulament ##ada no Ato da mes ##a n . 25 de 2015 . CÂMARA DOS DEPUTADOS Inf ##ol ##eg - Aut ##ent ##ica ##dor Do ##cu ##mento eletrônico assin ##ado por João Ro ##ma ( RE ##P ##U ##BL ##IC / BA ) , através do ponto SD ##R _ 56 ##19 ##9 , e ( ver ro ##l anexo ) , na forma do art . 10 ##2 , § 1º , do RICD c / c o art . 2º , do Ato da Mesa n . 80 de 2016 . EM ##P n . 3 / 0 Ap ##resenta ##ção : 04 / 08 / 2020 13 : 39 - PL ##EN EM ##P 3 = > PL 33 ##32 / 2020 [SEP] "
     ]
    }
   ],
   "source": [
    "ret = interactive_labeling.retrieve_refined_example()\n",
    "assert len(ret[\"labels\"]) == len(tokens)\n",
    "labels = ret[\"labels\"]\n",
    "print_labels(tokens, labels, input_is_tokens=True)\n",
    "lock_save = False"
   ]
  },
  {
   "cell_type": "code",
   "execution_count": 275,
   "id": "60386be3",
   "metadata": {
    "ExecuteTime": {
     "end_time": "2023-02-28T14:31:13.116614Z",
     "start_time": "2023-02-28T14:31:13.072140Z"
    }
   },
   "outputs": [
    {
     "data": {
      "application/vnd.jupyter.widget-view+json": {
       "model_id": "",
       "version_major": 2,
       "version_minor": 0
      },
      "text/plain": [
       "Saving the dataset (0/1 shards):   0%|          | 0/20 [00:00<?, ? examples/s]"
      ]
     },
     "metadata": {},
     "output_type": "display_data"
    },
    {
     "name": "stdout",
     "output_type": "stream",
     "text": [
      "Saved progress in '../data/refined_datasets/emendas_variadas_segmentadas_train_test_splits/test_9'.\n",
      "Instances until next dump:   0%|          | 0/20 [00:00<?, ?it/s]\n"
     ]
    }
   ],
   "source": [
    "redo = False\n",
    "\n",
    "if (redo or (not lock_save and id_ not in cached_indices)) and id_ < len(df_split):\n",
    "    if not redo:\n",
    "        it_counter += 1\n",
    "    \n",
    "        cached_indices.add(id_)\n",
    "\n",
    "        for key, val in df_split[id_].items():\n",
    "            if key != \"labels\":\n",
    "                new_refined_instances[key].append(val.copy())\n",
    "\n",
    "            else:\n",
    "                new_refined_instances[key].append(labels)\n",
    "\n",
    "        pbar_dump.update()\n",
    "        \n",
    "    else:\n",
    "        for key, val in df_split[id_].items():\n",
    "            if key != \"labels\":\n",
    "                new_refined_instances[key][-1] = val.copy()\n",
    "\n",
    "            else:\n",
    "                new_refined_instances[key][-1] = labels\n",
    "\n",
    "\n",
    "if it_counter % AUTOSAVE_IN_N_INSTANCES == 0 or j >= len(df_view_input_ids):\n",
    "    dump_refined_dataset()\n",
    "    pbar_dump.reset()\n",
    "\n",
    "\n",
    "print(pbar_dump)"
   ]
  },
  {
   "cell_type": "markdown",
   "id": "49ba0bc0",
   "metadata": {},
   "source": [
    "## Merge curated data shards"
   ]
  },
  {
   "cell_type": "code",
   "execution_count": 277,
   "id": "59123826",
   "metadata": {
    "ExecuteTime": {
     "end_time": "2023-02-28T14:31:26.844216Z",
     "start_time": "2023-02-28T14:31:26.703750Z"
    }
   },
   "outputs": [
    {
     "name": "stdout",
     "output_type": "stream",
     "text": [
      "200\n"
     ]
    },
    {
     "data": {
      "application/vnd.jupyter.widget-view+json": {
       "model_id": "",
       "version_major": 2,
       "version_minor": 0
      },
      "text/plain": [
       "Saving the dataset (0/1 shards):   0%|          | 0/200 [00:00<?, ? examples/s]"
      ]
     },
     "metadata": {},
     "output_type": "display_data"
    }
   ],
   "source": [
    "shard_uris = glob.glob(os.path.join(REFINED_DATASET_DIR, f\"{DATASET_SPLIT}_*\"))\n",
    "\n",
    "all_dsets = []\n",
    "\n",
    "for shard_uri in shard_uris:\n",
    "    try:\n",
    "        shard = datasets.Dataset.load_from_disk(shard_uri)\n",
    "    except Exception:\n",
    "        shard = None\n",
    "\n",
    "    if shard and shard.num_rows:\n",
    "        all_dsets.append(shard)\n",
    "\n",
    "merged_dset = datasets.concatenate_datasets(all_dsets)\n",
    "print(merged_dset.num_rows)\n",
    "\n",
    "\n",
    "# def split_instances_into_1024_tokens_max(x):\n",
    "#     num_tokens = len(x[\"labels\"][0])\n",
    "#     if num_tokens <= 1024: return x\n",
    "#     new_insts = collections.defaultdict(list)\n",
    "#     for key, val in x.items():\n",
    "#         val = val[0]\n",
    "#         i = 0\n",
    "#         noise_cliffhanger = False\n",
    "        \n",
    "#         while i < len(val):\n",
    "#             split = val[i:i + 1024]\n",
    "#             new_insts[key].append(split)\n",
    "#             i += 1024\n",
    "            \n",
    "#             if key == \"labels\":\n",
    "#                 try: first_noise_end = split.index(3)\n",
    "#                 except ValueError: first_noise_end = float(\"+inf\")\n",
    "                    \n",
    "#                 try: j = split.index(1)\n",
    "#                 except ValueError: j = float(\"+inf\")\n",
    "#                 try: k = split.index(2)\n",
    "#                 except ValueError: k = float(\"+inf\")\n",
    "                \n",
    "#                 if noise_cliffhanger or first_noise_end < min(j, k):\n",
    "#                     split[split.index(0)] = 2\n",
    "                    \n",
    "#                 noise_cliffhanger = False\n",
    "                \n",
    "#                 split_r = split[::-1]\n",
    "#                 try: last_noise_start = split_r.index(2)\n",
    "#                 except ValueError: last_noise_start = float(\"+inf\")\n",
    "                \n",
    "#                 try: j = split_r.index(1)\n",
    "#                 except ValueError: j = float(\"+inf\")\n",
    "#                 try: k = split_r.index(3)\n",
    "#                 except ValueError: k = float(\"+inf\")\n",
    "\n",
    "#                 noise_cliffhanger = last_noise_start < min(j, k)\n",
    "    \n",
    "#     return new_insts\n",
    "\n",
    "\n",
    "# merged_dset = merged_dset.map(split_instances_into_1024_tokens_max, batch_size=1, batched=True)\n",
    "# print(len(merged_dset))\n",
    "\n",
    "output_uri_merged = os.path.join(\n",
    "    REFINED_DATASET_DIR,\n",
    "    f\"combined_{DATASET_SPLIT}_{len(shard_uris)}_parts_{merged_dset.num_rows}_instances\",\n",
    ")\n",
    "\n",
    "merged_dset.save_to_disk(output_uri_merged)"
   ]
  },
  {
   "cell_type": "markdown",
   "id": "4686ca24",
   "metadata": {},
   "source": [
    "## Fine-tune for curated samples"
   ]
  },
  {
   "cell_type": "code",
   "execution_count": 9,
   "id": "42b53fbf",
   "metadata": {
    "ExecuteTime": {
     "end_time": "2023-03-05T12:40:04.454769Z",
     "start_time": "2023-03-05T12:39:43.472079Z"
    },
    "scrolled": false
   },
   "outputs": [
    {
     "name": "stdout",
     "output_type": "stream",
     "text": [
      "train:\n",
      "(6682, 4)\n",
      "before: (6682, 4) after: (6602, 4)\n",
      "test:\n",
      "(2299, 4)\n",
      "before: (2299, 4) after: (2299, 4)\n",
      "(303, 4)\n",
      "before: (303, 4) after: (303, 4)\n"
     ]
    },
    {
     "data": {
      "application/vnd.jupyter.widget-view+json": {
       "model_id": "706e753830404ee9b40fdc1f0647f3f7",
       "version_major": 2,
       "version_minor": 0
      },
      "text/plain": [
       "  0%|          | 0/6602 [00:00<?, ?ex/s]"
      ]
     },
     "metadata": {},
     "output_type": "display_data"
    },
    {
     "data": {
      "application/vnd.jupyter.widget-view+json": {
       "model_id": "48aa19eed75c4869830ef367e7301486",
       "version_major": 2,
       "version_minor": 0
      },
      "text/plain": [
       "  0%|          | 0/303 [00:00<?, ?ex/s]"
      ]
     },
     "metadata": {},
     "output_type": "display_data"
    },
    {
     "data": {
      "application/vnd.jupyter.widget-view+json": {
       "model_id": "3bdbfd47153f46748aa2c1e5c692190b",
       "version_major": 2,
       "version_minor": 0
      },
      "text/plain": [
       "  0%|          | 0/2299 [00:00<?, ?ex/s]"
      ]
     },
     "metadata": {},
     "output_type": "display_data"
    },
    {
     "data": {
      "application/vnd.jupyter.widget-view+json": {
       "model_id": "9a38528cc8fb4b49939bf4364380ec03",
       "version_major": 2,
       "version_minor": 0
      },
      "text/plain": [
       "Casting the dataset:   0%|          | 0/1 [00:00<?, ?ba/s]"
      ]
     },
     "metadata": {},
     "output_type": "display_data"
    }
   ],
   "source": [
    "import torch\n",
    "import torch.nn\n",
    "import copy\n",
    "import torchmetrics\n",
    "import transformers\n",
    "import pandas as pd\n",
    "import datasets\n",
    "import os\n",
    "import optimum.onnxruntime\n",
    "import onnxruntime\n",
    "\n",
    "\n",
    "# df_curated_train = datasets.Dataset.load_from_disk(\n",
    "#     os.path.join(REFINED_DATASET_DIR, \"combined_train_102_parts_4221_instances\")\n",
    "# )\n",
    "\n",
    "# df_curated_train = datasets.concatenate_datasets([\n",
    "#     df_curated_train,\n",
    "#     datasets.Dataset.load_from_disk(\"./final_curated_dataset_for_hyperparameter_tuning/eval\"),\n",
    "# ])\n",
    "\n",
    "# df_curated_test = datasets.Dataset.load_from_disk(\n",
    "#     os.path.join(\".\", \"final_curated_dataset_for_hyperparameter_tuning/test\")\n",
    "# )\n",
    "\n",
    "V2_DATADIR = \"../data/refined_datasets/df_tokenized_split_0_120000_6000_resplit\"\n",
    "EMENDAS_PREV_DATADIR = \"../data/refined_datasets/ccjs_segmentados_train_test_splits\"\n",
    "EMENDAS_VAR_DATADIR = \"../data/refined_datasets/emendas_variadas_segmentadas_train_test_splits\"\n",
    "\n",
    "df_curated_train = datasets.concatenate_datasets([\n",
    "    datasets.Dataset.load_from_disk(os.path.join(V2_DATADIR, \"combined_train_102_parts_4221_instances\")),\n",
    "    datasets.Dataset.load_from_disk(os.path.join(EMENDAS_PREV_DATADIR, \"combined_train_9_parts_185_instances\")),\n",
    "    datasets.Dataset.load_from_disk(os.path.join(EMENDAS_VAR_DATADIR, \"combined_train_13_parts_261_instances\")),\n",
    "    datasets.Dataset.load_from_disk(\"./final_curated_dataset_for_hyperparameter_tuning/eval\"),\n",
    "])\n",
    "\n",
    "df_curated_test_orig = datasets.Dataset.load_from_disk(\n",
    "    os.path.join(\".\", \"final_curated_dataset_for_hyperparameter_tuning/test\")\n",
    ")\n",
    "\n",
    "df_curated_test_emendas = datasets.concatenate_datasets([\n",
    "    datasets.Dataset.load_from_disk(os.path.join(EMENDAS_VAR_DATADIR, \"combined_test_10_parts_200_instances\")),\n",
    "    datasets.Dataset.load_from_disk(os.path.join(EMENDAS_PREV_DATADIR, \"combined_test_5_parts_103_instances\")),\n",
    "])\n",
    "\n",
    "\n",
    "def fn_pad(X):\n",
    "    rem = 1024 - len(X[\"labels\"])\n",
    "    X[\"labels\"] = X[\"labels\"] + rem * [-100]\n",
    "    X[\"input_ids\"] = X[\"input_ids\"] + rem * [0]\n",
    "    X[\"token_type_ids\"] = X[\"token_type_ids\"] + rem * [0]\n",
    "    X[\"attention_mask\"] = X[\"attention_mask\"] + rem * [0]\n",
    "    return X\n",
    "\n",
    "\n",
    "#### delete repeated instances\n",
    "def rem_repeated_instances(df):\n",
    "    df_aux = pd.DataFrame(df)\n",
    "    print(df_aux.shape)\n",
    "    df_aux_2 = df_aux.applymap(lambda x: \" \".join(map(str, x)))\n",
    "    df_aux_2 = df_aux_2.drop_duplicates(\n",
    "        subset=[\"input_ids\"], inplace=False, ignore_index=True, keep=\"last\"\n",
    "    )\n",
    "    df_aux_2 = df_aux_2.applymap(lambda x: list(map(int, x.split(\" \"))))\n",
    "    print(\"before:\", df_aux.shape, \"after:\", df_aux_2.shape)\n",
    "    return datasets.Dataset.from_pandas(df_aux_2)\n",
    "\n",
    "\n",
    "print(\"train:\")\n",
    "df_curated_train = rem_repeated_instances(df_curated_train)\n",
    "print(\"test:\")\n",
    "df_curated_test_orig = rem_repeated_instances(df_curated_test_orig)\n",
    "df_curated_test_emendas = rem_repeated_instances(df_curated_test_emendas)\n",
    "\n",
    "df_curated_train = df_curated_train.map(fn_pad, batch_size=32)\n",
    "df_curated_test_emendas = df_curated_test_emendas.map(fn_pad, batch_size=32)\n",
    "df_curated_test_orig = df_curated_test_orig.map(fn_pad, batch_size=32)\n",
    "\n",
    "df_curated_test_emendas = df_curated_test_emendas.cast(df_curated_test_orig.features)\n",
    "\n",
    "df_curated_train.set_format(\"torch\")\n",
    "df_curated_test_emendas.set_format(\"torch\")\n",
    "df_curated_test_orig.set_format(\"torch\")"
   ]
  },
  {
   "cell_type": "code",
   "execution_count": 10,
   "id": "56e9b1a5",
   "metadata": {
    "ExecuteTime": {
     "end_time": "2023-03-05T12:40:04.474643Z",
     "start_time": "2023-03-05T12:40:04.455961Z"
    }
   },
   "outputs": [],
   "source": [
    "batch_size = 6\n",
    "\n",
    "dl_train = torch.utils.data.DataLoader(df_curated_train, shuffle=True, batch_size=batch_size)\n",
    "dl_test_emendas = torch.utils.data.DataLoader(df_curated_test_emendas, batch_size=batch_size)\n",
    "dl_test_orig = torch.utils.data.DataLoader(df_curated_test_orig, batch_size=batch_size)\n",
    "dl_test_both = torch.utils.data.DataLoader(\n",
    "    datasets.concatenate_datasets([df_curated_test_emendas, df_curated_test_orig]),\n",
    "    batch_size=batch_size,\n",
    ")\n",
    "\n",
    "# dl_train = torch.utils.data.DataLoader(\n",
    "#     datasets.concatenate_datasets([\n",
    "#         df_curated_train,\n",
    "#         df_curated_test_emendas,\n",
    "#         df_curated_test_orig,\n",
    "#     ]),\n",
    "#     shuffle=True,\n",
    "#     batch_size=batch_size,\n",
    "# )\n",
    "# dl_test_both = None"
   ]
  },
  {
   "cell_type": "code",
   "execution_count": 5,
   "id": "125aaf19",
   "metadata": {
    "ExecuteTime": {
     "end_time": "2023-03-04T14:06:03.402883Z",
     "start_time": "2023-03-04T14:06:03.256834Z"
    }
   },
   "outputs": [],
   "source": [
    "logit_model = segmentador.BERTSegmenter(\n",
    "    uri_model=f\"../segmenter_checkpoint_v2/2_{VOCAB_SIZE}_layer_model\",\n",
    "    device=\"cpu\",\n",
    ")\n",
    "\n",
    "# logit_model = segmentador.BERTSegmenter(\n",
    "#     uri_model=f\"../segmenter_checkpoint_v2/4_{VOCAB_SIZE}_layer_model_finetuned\",\n",
    "#     device=\"cpu\",\n",
    "# )\n",
    "\n",
    "# logit_model = segmentador.LSTMSegmenter(\n",
    "#     uri_model=(\n",
    "#         os.path.join(\n",
    "#             f\"../segmenter_checkpoint_v2/512_{VOCAB_SIZE}_1_lstm/checkpoints\",\n",
    "#             \"512_hidden_dim_6000_vocab_size_1_layer_lstm.pt\",\n",
    "#         )\n",
    "#     ),\n",
    "#     device=\"cpu\",\n",
    "# )"
   ]
  },
  {
   "cell_type": "code",
   "execution_count": 20,
   "id": "5b0dadda",
   "metadata": {
    "ExecuteTime": {
     "end_time": "2023-03-05T20:02:06.646467Z",
     "start_time": "2023-03-05T20:02:06.438110Z"
    }
   },
   "outputs": [],
   "source": [
    "import transformers\n",
    "\n",
    "layers_num = 2\n",
    "# aux = torch.load(f\"bert_v2_{layers_num}_layers_logit_model_finetuned_emendas.pt\", map_location=\"cpu\")\n",
    "aux = torch.load(f\"./checkpoints_2_layers/bert_checkpoint_epoch_5.pt\", map_location=\"cpu\")\n",
    "torch.save(\n",
    "    aux.state_dict(),\n",
    "    f\"../segmenter_checkpoint_v2/{layers_num}_6000_layer_model_finetuned_emendas/pytorch_model.bin\",\n",
    ")\n",
    "\n",
    "# aux = torch.load(\n",
    "#     f\"../segmenter_checkpoint_v1/{layers_num}_{VOCAB_SIZE}_layer_model/pytorch_model.bin\",\n",
    "#     map_location=\"cpu\",\n",
    "# )\n",
    "# aux"
   ]
  },
  {
   "cell_type": "code",
   "execution_count": 192,
   "id": "5dabdf3f",
   "metadata": {
    "ExecuteTime": {
     "end_time": "2023-02-24T16:26:43.137010Z",
     "start_time": "2023-02-24T16:26:43.119031Z"
    }
   },
   "outputs": [],
   "source": [
    "# import segmentador.optimize\n",
    "\n",
    "# num_layers = 4\n",
    "\n",
    "# logit_model_finetuned = segmentador.BERTSegmenter(\n",
    "#     uri_model=f\"../segmenter_checkpoint_v2/{num_layers}_{VOCAB_SIZE}_layer_model_finetuned\",\n",
    "#     device=\"cpu\",\n",
    "# )\n",
    "\n",
    "# quantized_model_paths = segmentador.optimize.quantize_model(\n",
    "#     logit_model_finetuned,\n",
    "#     quantized_model_filename=f\"bert_v2_{num_layers}_layers_logit_model_finetuned\",\n",
    "#     model_output_format=\"onnx\",\n",
    "#     verbose=True,\n",
    "#     check_cached=False,\n",
    "# )\n",
    "\n",
    "# print(quantized_model_paths)\n",
    "\n",
    "# logit_model_copy = segmentador.optimize.ONNXBERTSegmenter(\n",
    "#     uri_model=quantized_model_paths.output_uri,\n",
    "#     uri_tokenizer=f\"../tokenizers/{VOCAB_SIZE}_subwords/\",\n",
    "# )._model"
   ]
  },
  {
   "cell_type": "code",
   "execution_count": 193,
   "id": "850452bd",
   "metadata": {
    "ExecuteTime": {
     "end_time": "2023-02-24T16:26:47.469137Z",
     "start_time": "2023-02-24T16:26:47.451715Z"
    },
    "scrolled": true
   },
   "outputs": [],
   "source": [
    "# import segmentador.optimize\n",
    "# import onnxruntime\n",
    "\n",
    "# hidden_dim = 512\n",
    "\n",
    "# logit_model_finetuned = segmentador.LSTMSegmenter(\n",
    "    \n",
    "#     uri_model=os.path.join(\n",
    "#         \"../segmenter_checkpoint_v2\",\n",
    "#         f\"{hidden_dim}_{VOCAB_SIZE}_1_lstm/checkpoints\",\n",
    "#         f\"{hidden_dim}_hidden_dim_{VOCAB_SIZE}_vocab_size_1_layer_lstm.pt\",\n",
    "#     ),\n",
    "#     device=\"cpu\",\n",
    "# )\n",
    "\n",
    "# quantized_model_paths = segmentador.optimize.quantize_model(\n",
    "#     logit_model_finetuned,\n",
    "#     quantized_model_filename=f\"lstm_v2_{hidden_dim}_hidden_dim_logit_model_finetuned\",\n",
    "#     model_output_format=\"onnx\",\n",
    "#     verbose=True,\n",
    "#     check_cached=False,\n",
    "# )\n",
    "\n",
    "# print(quantized_model_paths)\n",
    "\n",
    "# logit_model_copy = segmentador.optimize.ONNXLSTMSegmenter(\n",
    "#     uri_model=quantized_model_paths.output_uri,\n",
    "#     uri_tokenizer=f\"../tokenizers/{VOCAB_SIZE}_subwords/\",\n",
    "# )._model"
   ]
  },
  {
   "cell_type": "code",
   "execution_count": 14,
   "id": "a071032b",
   "metadata": {
    "ExecuteTime": {
     "end_time": "2023-03-05T12:55:41.196628Z",
     "start_time": "2023-03-05T12:55:41.173869Z"
    }
   },
   "outputs": [],
   "source": [
    "def eval_model(model, dl_test, device=\"cuda:0\"):\n",
    "    try: model.eval()\n",
    "    except AttributeError: pass\n",
    "    \n",
    "    if device and (not hasattr(model, \"device\") or torch.device(device) != model.device):\n",
    "        try: model.to(device)\n",
    "        except Exception: device = \"cpu\"\n",
    "\n",
    "    fn_precision = torchmetrics.classification.Precision(num_classes=4, average=None).to(device)\n",
    "    fn_recall = torchmetrics.classification.Recall(num_classes=4, average=None).to(device)\n",
    "    fn_f1 = torchmetrics.classification.f_beta.F1Score(num_classes=4, average=\"macro\").to(device)\n",
    "\n",
    "    preds = []\n",
    "    targets = []\n",
    "\n",
    "    for batch in tqdm.auto.tqdm(dl_test):\n",
    "        with torch.no_grad():\n",
    "            if isinstance(model, (transformers.BertForTokenClassification, optimum.onnxruntime.ORTModelForTokenClassification)):\n",
    "                batch = {k: v.to(device) for k, v in batch.items()}\n",
    "                outputs = model(**batch)\n",
    "                logits = outputs.logits\n",
    "\n",
    "            elif isinstance(model, onnxruntime.InferenceSession):\n",
    "                logits = model.run(\n",
    "                    output_names=[\"logits\"],\n",
    "                    input_feed=dict(input_ids=batch[\"input_ids\"].cpu().numpy()),\n",
    "                    run_options=None,\n",
    "                )\n",
    "                logits = logits[0]\n",
    "                logits = torch.Tensor(logits)\n",
    "                \n",
    "            else:\n",
    "                outputs = model(batch[\"input_ids\"].to(device))\n",
    "                logits = outputs[\"logits\"].view(-1, 4)\n",
    "\n",
    "        predictions = torch.argmax(logits, dim=-1)\n",
    "\n",
    "        preds.append(predictions.to(\"cpu\"))\n",
    "        targets.append(batch[\"labels\"].to(\"cpu\"))\n",
    "\n",
    "    try:\n",
    "        preds = torch.vstack(preds).view(-1)\n",
    "\n",
    "    except RuntimeError:\n",
    "        preds = torch.concat(preds)\n",
    "\n",
    "    targets = torch.vstack(targets).view(-1)\n",
    "\n",
    "    preds = torch.tensor(\n",
    "        [p for i, p in enumerate(preds) if targets[i] != -100], dtype=torch.long\n",
    "    ).to(device)\n",
    "    targets = torch.tensor([tg for tg in targets if tg != -100], dtype=torch.long).to(device)\n",
    "\n",
    "    recall = fn_recall(preds, targets)\n",
    "    precision = fn_precision(preds, targets)\n",
    "    f1 = fn_f1(preds, targets)\n",
    "\n",
    "    return recall.to(\"cpu\"), precision.to(\"cpu\"), f1.to(\"cpu\")"
   ]
  },
  {
   "cell_type": "code",
   "execution_count": 7,
   "id": "842652ec",
   "metadata": {
    "ExecuteTime": {
     "end_time": "2023-03-04T14:06:03.458812Z",
     "start_time": "2023-03-04T14:06:03.427988Z"
    }
   },
   "outputs": [],
   "source": [
    "logit_model_copy = copy.deepcopy(logit_model.model)\n",
    "torch.cuda.empty_cache()\n",
    "\n",
    "# Setup for final version:\n",
    "optim = torch.optim.Adam(logit_model_copy.parameters(), lr=5e-5)\n",
    "lr_scheduler = torch.optim.lr_scheduler.ExponentialLR(optim, gamma=0.8)\n",
    "num_epochs = 10\n",
    "num_training_steps = (num_epochs * len(df_curated_train)) // batch_size\n",
    "grad_acc_steps = 1 # max(1, 3 // batch_size)\n",
    "loss_fn = torch.nn.CrossEntropyLoss(ignore_index=-100)\n",
    "\n",
    "\n",
    "# optim = torch.optim.Adam(logit_model_copy.parameters(), lr=5e-5)\n",
    "# lr_scheduler = torch.optim.lr_scheduler.ExponentialLR(optim, gamma=0.8)\n",
    "# num_epochs = 2\n",
    "# num_training_steps = (num_epochs * len(df_curated_train)) // batch_size\n",
    "# grad_acc_steps = 1\n",
    "# loss_fn = torch.nn.CrossEntropyLoss(ignore_index=-100)"
   ]
  },
  {
   "cell_type": "code",
   "execution_count": 8,
   "id": "a6bd972f",
   "metadata": {
    "ExecuteTime": {
     "end_time": "2023-03-04T16:00:24.919442Z",
     "start_time": "2023-03-04T14:06:05.650374Z"
    }
   },
   "outputs": [
    {
     "data": {
      "application/vnd.jupyter.widget-view+json": {
       "model_id": "d4dc72294505405a938afb6d0baf89d8",
       "version_major": 2,
       "version_minor": 0
      },
      "text/plain": [
       "  0%|          | 0/11003 [00:00<?, ?it/s]"
      ]
     },
     "metadata": {},
     "output_type": "display_data"
    },
    {
     "data": {
      "application/vnd.jupyter.widget-view+json": {
       "model_id": "b075bb461668423c9e81acfa0ce9e7db",
       "version_major": 2,
       "version_minor": 0
      },
      "text/plain": [
       "  0%|          | 0/434 [00:00<?, ?it/s]"
      ]
     },
     "metadata": {},
     "output_type": "display_data"
    },
    {
     "name": "stdout",
     "output_type": "stream",
     "text": [
      "recall_orig = tensor([0.9993, 0.9542, 0.8674, 0.6220]), precision_orig = tensor([0.9983, 0.9839, 0.9157, 0.7376]), f1_orig = tensor(0.8834)\n"
     ]
    },
    {
     "data": {
      "application/vnd.jupyter.widget-view+json": {
       "model_id": "703553a4849f4b12a2e0c554e3648cc5",
       "version_major": 2,
       "version_minor": 0
      },
      "text/plain": [
       "  0%|          | 0/434 [00:00<?, ?it/s]"
      ]
     },
     "metadata": {},
     "output_type": "display_data"
    },
    {
     "name": "stdout",
     "output_type": "stream",
     "text": [
      "recall_orig = tensor([0.9994, 0.9582, 0.8633, 0.6324]), precision_orig = tensor([0.9984, 0.9848, 0.9276, 0.7304]), f1_orig = tensor(0.8856)\n"
     ]
    },
    {
     "data": {
      "application/vnd.jupyter.widget-view+json": {
       "model_id": "c600a1c7de2841b4b85159cf61b2437f",
       "version_major": 2,
       "version_minor": 0
      },
      "text/plain": [
       "  0%|          | 0/434 [00:00<?, ?it/s]"
      ]
     },
     "metadata": {},
     "output_type": "display_data"
    },
    {
     "name": "stdout",
     "output_type": "stream",
     "text": [
      "recall_orig = tensor([0.9992, 0.9629, 0.8742, 0.6672]), precision_orig = tensor([0.9986, 0.9813, 0.9188, 0.7268]), f1_orig = tensor(0.8906)\n"
     ]
    },
    {
     "data": {
      "application/vnd.jupyter.widget-view+json": {
       "model_id": "c476e113d0184624ab59bf044dbea6cd",
       "version_major": 2,
       "version_minor": 0
      },
      "text/plain": [
       "  0%|          | 0/434 [00:00<?, ?it/s]"
      ]
     },
     "metadata": {},
     "output_type": "display_data"
    },
    {
     "name": "stdout",
     "output_type": "stream",
     "text": [
      "recall_orig = tensor([0.9993, 0.9623, 0.8738, 0.6307]), precision_orig = tensor([0.9985, 0.9825, 0.9221, 0.7403]), f1_orig = tensor(0.8874)\n"
     ]
    },
    {
     "data": {
      "application/vnd.jupyter.widget-view+json": {
       "model_id": "4738617adc4340feb06f6f8cc60c2cf8",
       "version_major": 2,
       "version_minor": 0
      },
      "text/plain": [
       "  0%|          | 0/434 [00:00<?, ?it/s]"
      ]
     },
     "metadata": {},
     "output_type": "display_data"
    },
    {
     "name": "stdout",
     "output_type": "stream",
     "text": [
      "recall_orig = tensor([0.9993, 0.9623, 0.8734, 0.6638]), precision_orig = tensor([0.9986, 0.9828, 0.9235, 0.7355]), f1_orig = tensor(0.8917)\n"
     ]
    },
    {
     "data": {
      "application/vnd.jupyter.widget-view+json": {
       "model_id": "a4b43491f9c24924a4f5cd80001faf3d",
       "version_major": 2,
       "version_minor": 0
      },
      "text/plain": [
       "  0%|          | 0/434 [00:00<?, ?it/s]"
      ]
     },
     "metadata": {},
     "output_type": "display_data"
    },
    {
     "name": "stdout",
     "output_type": "stream",
     "text": [
      "recall_orig = tensor([0.9993, 0.9630, 0.8780, 0.6864]), precision_orig = tensor([0.9986, 0.9819, 0.9195, 0.7406]), f1_orig = tensor(0.8955)\n"
     ]
    },
    {
     "data": {
      "application/vnd.jupyter.widget-view+json": {
       "model_id": "e80cff85a6c04a838169fe4c7d10e683",
       "version_major": 2,
       "version_minor": 0
      },
      "text/plain": [
       "  0%|          | 0/434 [00:00<?, ?it/s]"
      ]
     },
     "metadata": {},
     "output_type": "display_data"
    },
    {
     "name": "stdout",
     "output_type": "stream",
     "text": [
      "recall_orig = tensor([0.9993, 0.9627, 0.8731, 0.6655]), precision_orig = tensor([0.9986, 0.9823, 0.9242, 0.7375]), f1_orig = tensor(0.8922)\n"
     ]
    },
    {
     "data": {
      "application/vnd.jupyter.widget-view+json": {
       "model_id": "f0b1e5ab7d4043b6baa3f5881cc3ac79",
       "version_major": 2,
       "version_minor": 0
      },
      "text/plain": [
       "  0%|          | 0/434 [00:00<?, ?it/s]"
      ]
     },
     "metadata": {},
     "output_type": "display_data"
    },
    {
     "name": "stdout",
     "output_type": "stream",
     "text": [
      "recall_orig = tensor([0.9993, 0.9628, 0.8765, 0.6376]), precision_orig = tensor([0.9986, 0.9828, 0.9190, 0.7454]), f1_orig = tensor(0.8890)\n"
     ]
    },
    {
     "data": {
      "application/vnd.jupyter.widget-view+json": {
       "model_id": "95084c3725b04549872bdbc24b787305",
       "version_major": 2,
       "version_minor": 0
      },
      "text/plain": [
       "  0%|          | 0/434 [00:00<?, ?it/s]"
      ]
     },
     "metadata": {},
     "output_type": "display_data"
    },
    {
     "name": "stdout",
     "output_type": "stream",
     "text": [
      "recall_orig = tensor([0.9993, 0.9635, 0.8783, 0.6429]), precision_orig = tensor([0.9986, 0.9827, 0.9199, 0.7425]), f1_orig = tensor(0.8899)\n"
     ]
    },
    {
     "data": {
      "application/vnd.jupyter.widget-view+json": {
       "model_id": "b0caee4c527340e8bd09992fb2863bba",
       "version_major": 2,
       "version_minor": 0
      },
      "text/plain": [
       "  0%|          | 0/434 [00:00<?, ?it/s]"
      ]
     },
     "metadata": {},
     "output_type": "display_data"
    },
    {
     "name": "stdout",
     "output_type": "stream",
     "text": [
      "recall_orig = tensor([0.9993, 0.9638, 0.8821, 0.6463]), precision_orig = tensor([0.9986, 0.9824, 0.9166, 0.7361]), f1_orig = tensor(0.8898)\n"
     ]
    }
   ],
   "source": [
    "pbar = tqdm.auto.tqdm(range(num_training_steps), total=num_training_steps)\n",
    "\n",
    "logit_model_copy.to(\"cuda:0\")\n",
    "checkpoint_dir = \"./checkpoints_2_layers\"\n",
    "\n",
    "\n",
    "if checkpoint_dir:\n",
    "    os.makedirs(checkpoint_dir, exist_ok=True)\n",
    "    \n",
    "\n",
    "for epoch in range(num_epochs):\n",
    "    logit_model_copy.train()\n",
    "    \n",
    "    for i, batch in enumerate(dl_train, 1):\n",
    "        if isinstance(logit_model_copy, transformers.BertForTokenClassification):\n",
    "            batch = {k: v.to(\"cuda:0\") for k, v in batch.items()}\n",
    "            outputs = logit_model_copy(**batch)\n",
    "            loss = outputs.loss\n",
    "\n",
    "        else:\n",
    "            outputs = logit_model_copy(batch[\"input_ids\"].to(\"cuda:0\"))\n",
    "            logits = outputs[\"logits\"].view(-1, 4)\n",
    "            true = batch[\"labels\"].to(\"cuda:0\").view(-1)\n",
    "            loss = loss_fn(logits, true)\n",
    "\n",
    "        loss.backward()\n",
    "        pbar.set_description(f\"{float(loss.detach().item()):.6f}\")\n",
    "\n",
    "        if i % grad_acc_steps == 0 or i == len(dl_train):\n",
    "            optim.step()\n",
    "            optim.zero_grad()\n",
    "\n",
    "        pbar.update(1)\n",
    "    \n",
    "    if dl_test_both is not None:\n",
    "        recall_orig, precision_orig, f1_orig = eval_model(logit_model_copy, dl_test_both, device=\"cuda:0\")\n",
    "        print(f\"{recall_orig = }, {precision_orig = }, {f1_orig = }\")\n",
    "    \n",
    "    if checkpoint_dir:\n",
    "        if isinstance(logit_model_copy, transformers.BertForTokenClassification):\n",
    "            torch.save(logit_model_copy, os.path.join(checkpoint_dir, f\"bert_checkpoint_epoch_{epoch}.pt\"))\n",
    "        else:\n",
    "            torch.save(logit_model_copy, os.path.join(checkpoint_dir, f\"lstm_checkpoint_epoch_{epoch}.pt\"))\n",
    "    \n",
    "    lr_scheduler.step()"
   ]
  },
  {
   "cell_type": "code",
   "execution_count": 303,
   "id": "80c93242",
   "metadata": {
    "ExecuteTime": {
     "end_time": "2023-02-28T21:34:52.203293Z",
     "start_time": "2023-02-28T21:34:52.061969Z"
    }
   },
   "outputs": [],
   "source": [
    "if isinstance(logit_model_copy, transformers.BertForTokenClassification):\n",
    "    torch.save(logit_model_copy, \"bert_v2_4_layers_logit_model_finetuned_emendas_variadas_6_epochs.pt\")\n",
    "else:\n",
    "    torch.save(logit_model_copy, \"lstm_logit_model_finetuned_emendas.pt\")"
   ]
  },
  {
   "cell_type": "code",
   "execution_count": 296,
   "id": "04663add",
   "metadata": {
    "ExecuteTime": {
     "end_time": "2023-02-28T18:43:20.785900Z",
     "start_time": "2023-02-28T18:37:39.243637Z"
    },
    "scrolled": false
   },
   "outputs": [
    {
     "data": {
      "application/vnd.jupyter.widget-view+json": {
       "model_id": "8831e31b298b4580b5f91ca7c743fa5a",
       "version_major": 2,
       "version_minor": 0
      },
      "text/plain": [
       "  0%|          | 0/101 [00:00<?, ?it/s]"
      ]
     },
     "metadata": {},
     "output_type": "display_data"
    },
    {
     "name": "stdout",
     "output_type": "stream",
     "text": [
      "recall_orig = tensor([0.9970, 0.7688, 0.4450, 0.2556]), precision_orig = tensor([0.9931, 0.8806, 0.6528, 0.3579]), f1_orig = tensor(0.6609)\n"
     ]
    },
    {
     "data": {
      "application/vnd.jupyter.widget-view+json": {
       "model_id": "642ae09f5fca4995a0faad2ddcf8a7ae",
       "version_major": 2,
       "version_minor": 0
      },
      "text/plain": [
       "  0%|          | 0/767 [00:00<?, ?it/s]"
      ]
     },
     "metadata": {},
     "output_type": "display_data"
    },
    {
     "name": "stdout",
     "output_type": "stream",
     "text": [
      "recall_orig = tensor([0.9994, 0.9768, 0.9275, 0.7755]), precision_orig = tensor([0.9991, 0.9861, 0.9279, 0.7533]), f1_orig = tensor(0.9182)\n"
     ]
    },
    {
     "data": {
      "application/vnd.jupyter.widget-view+json": {
       "model_id": "6b71c17c54094624b089506e2d0d706c",
       "version_major": 2,
       "version_minor": 0
      },
      "text/plain": [
       "  0%|          | 0/868 [00:00<?, ?it/s]"
      ]
     },
     "metadata": {},
     "output_type": "display_data"
    },
    {
     "name": "stdout",
     "output_type": "stream",
     "text": [
      "recall_orig = tensor([0.9990, 0.9529, 0.8185, 0.6551]), precision_orig = tensor([0.9982, 0.9752, 0.8823, 0.6849]), f1_orig = tensor(0.8703)\n"
     ]
    }
   ],
   "source": [
    "recall_orig, precision_orig, f1_orig = eval_model(logit_model.model, dl_test=dl_test_emendas, device=\"cuda\")\n",
    "print(f\"{recall_orig = }, {precision_orig = }, {f1_orig = }\")\n",
    "\n",
    "recall_orig, precision_orig, f1_orig = eval_model(logit_model.model, dl_test=dl_test_orig, device=\"cuda\")\n",
    "print(f\"{recall_orig = }, {precision_orig = }, {f1_orig = }\")\n",
    "\n",
    "recall_orig, precision_orig, f1_orig = eval_model(logit_model.model, dl_test=dl_test_both, device=\"cuda\")\n",
    "print(f\"{recall_orig = }, {precision_orig = }, {f1_orig = }\")\n",
    "\n",
    "# V2 (V1 + finetuning):\n",
    "# recall_orig=([0.9970, 0.7688, 0.4450, 0.2556]), precision_orig=([0.9931, 0.8806, 0.6528, 0.3579]), f1_orig=0.6609\n",
    "# recall_orig=([0.9994, 0.9768, 0.9275, 0.7755]), precision_orig=([0.9991, 0.9861, 0.9279, 0.7533]), f1_orig=0.9182\n",
    "# recall_orig=([0.9990, 0.9529, 0.8185, 0.6551]), precision_orig=([0.9982, 0.9752, 0.8823, 0.6849]), f1_orig=0.8703\n",
    "\n",
    "# V2 (from scratch):\n",
    "# recall_orig=([0.9971, 0.6345, 0.4600, 0.2406]),precision_orig=([0.9908, 0.9314, 0.6345, 0.1475]), f1_orig=0.6162\n",
    "# recall_orig=([0.9994, 0.9461, 0.7976, 0.5397]),precision_orig=([0.9979, 0.9837, 0.9260, 0.7062]), f1_orig=0.8580\n",
    "# recall_orig=([0.9990, 0.9102, 0.7213, 0.4704]),precision_orig=([0.9967, 0.9793, 0.8685, 0.4874]), f1_orig=0.8020"
   ]
  },
  {
   "cell_type": "code",
   "execution_count": 9,
   "id": "e48effb1",
   "metadata": {
    "ExecuteTime": {
     "end_time": "2023-03-04T17:36:31.330804Z",
     "start_time": "2023-03-04T17:32:11.734366Z"
    },
    "scrolled": false
   },
   "outputs": [
    {
     "name": "stdout",
     "output_type": "stream",
     "text": [
      "epoch = 5\n"
     ]
    },
    {
     "data": {
      "application/vnd.jupyter.widget-view+json": {
       "model_id": "d3d6f17549874fefa9e9583cfc8b2917",
       "version_major": 2,
       "version_minor": 0
      },
      "text/plain": [
       "  0%|          | 0/51 [00:00<?, ?it/s]"
      ]
     },
     "metadata": {},
     "output_type": "display_data"
    },
    {
     "name": "stdout",
     "output_type": "stream",
     "text": [
      "recall_new = tensor([0.9986, 0.8950, 0.7900, 0.5639]), precision_new = tensor([0.9971, 0.9404, 0.8893, 0.7009]), f1_new = tensor(0.8442)\n"
     ]
    },
    {
     "data": {
      "application/vnd.jupyter.widget-view+json": {
       "model_id": "c731754f58ec4031a96c8a78c8fca6c2",
       "version_major": 2,
       "version_minor": 0
      },
      "text/plain": [
       "  0%|          | 0/384 [00:00<?, ?it/s]"
      ]
     },
     "metadata": {},
     "output_type": "display_data"
    },
    {
     "name": "stdout",
     "output_type": "stream",
     "text": [
      "recall_new = tensor([0.9994, 0.9718, 0.9036, 0.7234]), precision_new = tensor([0.9989, 0.9871, 0.9276, 0.7506]), f1_new = tensor(0.9077)\n"
     ]
    },
    {
     "data": {
      "application/vnd.jupyter.widget-view+json": {
       "model_id": "e75522b18a01447f8aa204134463410e",
       "version_major": 2,
       "version_minor": 0
      },
      "text/plain": [
       "  0%|          | 0/434 [00:00<?, ?it/s]"
      ]
     },
     "metadata": {},
     "output_type": "display_data"
    },
    {
     "name": "stdout",
     "output_type": "stream",
     "text": [
      "recall_new = tensor([0.9993, 0.9630, 0.8780, 0.6864]), precision_new = tensor([0.9986, 0.9819, 0.9195, 0.7406]), f1_new = tensor(0.8955)\n"
     ]
    }
   ],
   "source": [
    "for epoch in [5]:\n",
    "    print(f\"{epoch = }\")\n",
    "    \n",
    "    torch.cuda.empty_cache()\n",
    "    logit_model_copy = torch.load(os.path.join(checkpoint_dir, f\"bert_checkpoint_epoch_{epoch}.pt\"))\n",
    "    \n",
    "    recall_new, precision_new, f1_new = eval_model(logit_model_copy, dl_test=dl_test_emendas, device=\"cuda\")\n",
    "    print(f\"{recall_new = }, {precision_new = }, {f1_new = }\")\n",
    "\n",
    "    recall_new, precision_new, f1_new = eval_model(logit_model_copy, dl_test=dl_test_orig, device=\"cuda\")\n",
    "    print(f\"{recall_new = }, {precision_new = }, {f1_new = }\")\n",
    "\n",
    "    recall_new, precision_new, f1_new = eval_model(logit_model_copy, dl_test=dl_test_both, device=\"cuda\")\n",
    "    print(f\"{recall_new = }, {precision_new = }, {f1_new = }\")\n",
    "\n",
    "# V1:\n",
    "# 2-BERT v1: recall_orig = ([0.9994, 0.9389, 0.7762, 0.4331]), precision_orig = ([0.9976, 0.9858, 0.8991, 0.6920])\n",
    "# f1 = 0.8369, f1_c1= 0.9618\n",
    "# 4-BERT v1: recall_orig = ([0.9995, 0.9394, 0.7859, 0.4830]), precision_orig = ([0.9976, 0.9867, 0.9104, 0.6741])\n",
    "# f1 = 0.8447, f1_c1= 0.9625\n",
    "# 6-BERT v1: recall_orig = ([0.9994, 0.9390, 0.7835, 0.4444]), precision_orig = ([0.9976, 0.9864, 0.9076, 0.6405])\n",
    "# f1 = 0.8316, f1_c1= 0.9621\n",
    "# 128-LSTMv1:recall_orig = ([0.9994, 0.9386, 0.7800, 0.5102]), precision_orig = ([0.9976, 0.9861, 0.9092, 0.6839])\n",
    "# f1 = 0.8484, f1_c1= 0.9618\n",
    "# 256-LSTMv1:recall_orig = ([0.9994, 0.9376, 0.7849, 0.5193]), precision_orig = ([0.9976, 0.9859, 0.9016, 0.6716])\n",
    "# f1 = 0.8479, f1_c1= 0.9611\n",
    "# 512-LSTMv1:recall_orig = ([0.9994, 0.9375, 0.7849, 0.5238]), precision_orig = ([0.9976, 0.9863, 0.9087, 0.6453])\n",
    "# f1 = 0.8464, f1_c1= 0.9613\n",
    "\n",
    "# V2 from scratch:\n",
    "# 2-BERT v2: recall_orig = ([0.9994, 0.9468, 0.7976, 0.5079]), precision_orig = ([0.9979, 0.9834, 0.9255, 0.6978])\n",
    "# f1 = 0.8548, f1_c1= 0.9648\n",
    "# 4-BERT v2: recall_orig = ([0.9994, 0.9461, 0.7976, 0.5397]), precision_orig = ([0.9979, 0.9837, 0.9260, 0.7062])\n",
    "# f1 = 0.8601, f1_c1= 0.9645\n",
    "# 128-LSTMv2:recall_orig = ([0.9993, 0.9603, 0.8224, 0.5833]), precision_orig = ([0.9983, 0.9842, 0.9069, 0.6960])\n",
    "# f1 = 0.8680, f1_c1= 0.9721\n",
    "# 128QLSTMv2:recall_new  = ([0.9994, 0.9599, 0.8214, 0.5351]), precision_new  = ([0.9983, 0.9862, 0.9219, 0.7195])\n",
    "# f1 = 0.8660, f1_c1= 0.9729\n",
    "# 256-LSTMv2:recall_orig = ([0.9994, 0.9620, 0.8202, 0.5646]), precision_orig = ([0.9983, 0.9855, 0.9171, 0.7137])\n",
    "# f1 = 0.8688, f1_c1= 0.9736\n",
    "# 256QLSTMv2:recall_new  = ([0.9994, 0.9612, 0.8219, 0.5646]), precision_new  = ([0.9983, 0.9856, 0.9169, 0.7074])\n",
    "# f1 = 0.8682, f1_c1= 0.9732\n",
    "# 512-LSTMv2:recall_orig = ([0.9994, 0.9583, 0.8215, 0.5352]), precision_orig = ([0.9982, 0.9866, 0.9133, 0.7250])\n",
    "# f1 = 0.8655, f1_c1= 0.9722\n",
    "# 512QLSTMv2:recall_new  = ([0.9994, 0.9577, 0.8248, 0.5442]), precision_new  = ([0.9982, 0.9864, 0.9133, 0.7229])\n",
    "# f1 = 0.8668, f1_c1= 0.9718\n",
    "\n",
    "# V2 with post-training fine-tuning:\n",
    "# 2-BERT v2: recall_new = ([0.9993, 0.9659, 0.8491, 0.5601]), precision_new = ([0.9985, 0.9797, 0.9228, 0.7508])\n",
    "# f1 = 0.8769, f1_c1= 0.9728\n",
    "# 4-BERT v2: recall_new = ([0.9994, 0.9669, 0.8871, 0.5283]), precision_new = ([0.9986, 0.9863, 0.9230, 0.7793])\n",
    "# f1 = 0.8820, f1_c1= 0.9765\n",
    "# 4-BERTe3v2:recall_new = ([0.9995, 0.9694, 0.8939, 0.6871]), precision_new = ([0.9988, 0.9895, 0.9320, 0.7537])\n",
    "# f1 = 0.9027, f1_c1= 0.9793\n",
    "# 4-BERTe5v2:recall_new = ([0.9994, 0.9745, 0.9061, 0.7506]), precision_new = ([0.9990, 0.9862, 0.9366, 0.7609])\n",
    "# f1 = 0.9141, f1_c1= 0.9803\n",
    "#2-BERTe10v2:recall_new = ([0.9993, 0.9729, 0.9051, 0.6916]), precision_new = ([0.9989, 0.9856, 0.9172, 0.7531])\n",
    "# f1 = 0.9028, f1_c1= 0.9792\n",
    "#4-BERTe10v2:recall_new = ([0.9994, 0.9768, 0.9275, 0.7755]), precision_new = ([0.9991, 0.9861, 0.9279, 0.7533])\n",
    "# f1 = 0.9182, f1_c1= 0.9814\n",
    "#6-BERTe10v2:recall_new = ([0.9994, 0.9753, 0.9221, 0.7188]), precision_new = ([0.9990, 0.9875, 0.9280, 0.7441])\n",
    "# f1 = 0.9092, f1_c1= 0.9814\n",
    "#2QBERTe10v2:recall_new = ([0.9993, 0.9729, 0.9051, 0.6916]), precision_new = ([0.9989, 0.9856, 0.9176, 0.7512])\n",
    "# f1 = 0.9027, f1_c1= 0.9792\n",
    "#4QBERTe10v2:recall_new = ([0.9993, 0.9769, 0.9275, 0.7755]), precision_new = ([0.9991, 0.9859, 0.9284, 0.7533])\n",
    "# f1 = 0.9182, f1_c1= 0.9814\n",
    "#6QBERTe10v2:recall_new = ([0.9994, 0.9754, 0.9217, 0.7234]), precision_new = ([0.9990, 0.9876, 0.9271, 0.7419])\n",
    "# f1 = 0.9094, f1_c1= 0.9815\n",
    "# 256-LSTMv2:recall_new = ([0.9992, 0.9632, 0.8297, 0.4807]), precision_new = ([0.9984, 0.9748, 0.9337, 0.7518])\n",
    "# f1 = 0.8638, f1_c1= 0.9690\n",
    "# 512-LSTMv2:recall_new = ([0.9993, 0.9644, 0.8477, 0.4898]), precision_new = ([0.9985, 0.9762, 0.9376, 0.8030])\n",
    "# f1 = 0.8740, f1_c1= 0.9703\n",
    "\n",
    "\n",
    "## EMENDAS\n",
    "# v2 reference:\n",
    "# recall_orig = tensor([0.9989, 0.8602, 0.0957, 0.0566]), precision_orig = tensor([0.9898, 0.9418, 0.6207, 1.0000]), f1_orig = tensor(0.5416)\n",
    "# recall_orig = tensor([0.9994, 0.9768, 0.9275, 0.7755]), precision_orig = tensor([0.9991, 0.9861, 0.9279, 0.7533]), f1_orig = tensor(0.9182)\n",
    "\n",
    "# From v1 (10 epochs, bsize= 3 * 2 grad_acc)\n",
    "# recall_new = tensor([0.9998, 0.9862, 0.9362, 0.8302]), precision_new = tensor([0.9990, 0.9960, 0.9724, 0.9778]), f1_new = tensor(0.9606)\n",
    "# recall_new = tensor([0.9994, 0.9752, 0.9217, 0.7755]), precision_new = tensor([0.9991, 0.9872, 0.9262, 0.7720]), f1_new = tensor(0.9195)\n",
    "\n",
    "# (post-training with all active learning data)\n",
    "# 3 epochs\n",
    "# recall_new = tensor([0.9994, 0.9902, 0.9521, 0.7170]), precision_new = tensor([0.9991, 0.9824, 0.9471, 0.9500]), f1_new = tensor(0.9381)\n",
    "# recall_new = tensor([0.9993, 0.9769, 0.9226, 0.7188]), precision_new = tensor([0.9991, 0.9844, 0.9186, 0.7512]), f1_new = tensor(0.9088)\n",
    "\n",
    "# (post-training with only emendas data)\n",
    "# 1 epoch\n",
    "# recall_new = tensor([0.9996, 0.9862, 0.9149, 0.6792]), precision_new = tensor([0.9986, 0.9921, 0.9609, 0.9231]), f1_new = tensor(0.9270)\n",
    "# recall_new = tensor([0.9991, 0.9729, 0.9041, 0.8458]), precision_new = tensor([0.9990, 0.9889, 0.9068, 0.5173]), f1_new = tensor(0.8818)\n",
    "\n",
    "# 3 epochs\n",
    "# recall_new = tensor([0.9997, 0.9902, 0.9096, 0.8302]), precision_new = tensor([0.9989, 0.9941, 0.9716, 0.9565]), f1_new = tensor(0.9550)\n",
    "# recall_new = tensor([0.9991, 0.9726, 0.8998, 0.8390]), precision_new = tensor([0.9990, 0.9885, 0.9086, 0.5293]), f1_new = tensor(0.8832)\n",
    "\n",
    "\n",
    "## EMENDAS VARIADAS\n",
    "# From V2 (V1 + finetuning 10 epochs):\n",
    "# recall_new = tensor([0.9986, 0.9076, 0.8083, 0.6165]), precision_new = tensor([0.9973, 0.9455, 0.8883, 0.7664]), f1_new = tensor(0.8635)\n",
    "# recall_new = tensor([0.9993, 0.9771, 0.9270, 0.7551]), precision_new = tensor([0.9991, 0.9858, 0.9248, 0.7603]), f1_new = tensor(0.9160)\n",
    "# recall_new = tensor([0.9992, 0.9691, 0.9002, 0.7230]), precision_new = tensor([0.9988, 0.9813, 0.9171, 0.7615]), f1_new = tensor(0.9061)\n",
    "\n",
    "\n",
    "# epoch = 0\n",
    "# recall_new = tensor([0.9982, 0.8074, 0.6650, 0.3083]), precision_new = tensor([0.9947, 0.8995, 0.8750, 0.9111]), f1_new = tensor(0.7660)\n",
    "# recall_new = tensor([0.9992, 0.9705, 0.8725, 0.6168]), precision_new = tensor([0.9987, 0.9761, 0.9358, 0.7514]), f1_new = tensor(0.8882)\n",
    "# recall_new = tensor([0.9990, 0.9517, 0.8256, 0.5453]), precision_new = tensor([0.9981, 0.9680, 0.9241, 0.7690]), f1_new = tensor(0.8671)\n",
    "\n",
    "# epoch = 1\n",
    "# recall_new = tensor([0.9986, 0.8304, 0.7600, 0.3910]), precision_new = tensor([0.9955, 0.9419, 0.8555, 0.7647]), f1_new = tensor(0.8005)\n",
    "# recall_new = tensor([0.9993, 0.9683, 0.9163, 0.6984]), precision_new = tensor([0.9988, 0.9881, 0.9066, 0.7130]), f1_new = tensor(0.8986)\n",
    "# recall_new = tensor([0.9992, 0.9524, 0.8810, 0.6272]), precision_new = tensor([0.9983, 0.9833, 0.8962, 0.7200]), f1_new = tensor(0.8813)\n",
    "\n",
    "# epoch = 2\n",
    "# recall_new = tensor([0.9986, 0.8946, 0.7250, 0.4962]), precision_new = tensor([0.9967, 0.9320, 0.9197, 0.8571]), f1_new = tensor(0.8375)\n",
    "# recall_new = tensor([0.9994, 0.9741, 0.8852, 0.7075]), precision_new = tensor([0.9989, 0.9839, 0.9396, 0.7685]), f1_new = tensor(0.9066)\n",
    "# recall_new = tensor([0.9993, 0.9649, 0.8490, 0.6585]), precision_new = tensor([0.9985, 0.9781, 0.9357, 0.7826]), f1_new = tensor(0.8940)\n",
    "\n",
    "# epoch = 3\n",
    "# recall_new = tensor([0.9978, 0.9058, 0.7783, 0.5865]), precision_new = tensor([0.9972, 0.9027, 0.8680, 0.7358]), f1_new = tensor(0.8438)\n",
    "# recall_new = tensor([0.9992, 0.9768, 0.9182, 0.7823]), precision_new = tensor([0.9991, 0.9817, 0.9241, 0.7566]), f1_new = tensor(0.9172)\n",
    "# recall_new = tensor([0.9990, 0.9686, 0.8866, 0.7369]), precision_new = tensor([0.9988, 0.9726, 0.9124, 0.7527]), f1_new = tensor(0.9034)\n",
    "\n",
    "# epoch = 4\n",
    "# recall_new = tensor([0.9984, 0.8913, 0.8000, 0.6842]), precision_new = tensor([0.9971, 0.9420, 0.8791, 0.6691]), f1_new = tensor(0.8570)\n",
    "# recall_new = tensor([0.9994, 0.9747, 0.9187, 0.7914]), precision_new = tensor([0.9990, 0.9867, 0.9232, 0.7505]), f1_new = tensor(0.9178)\n",
    "# recall_new = tensor([0.9992, 0.9651, 0.8919, 0.7666]), precision_new = tensor([0.9987, 0.9817, 0.9139, 0.7321]), f1_new = tensor(0.9060)\n",
    "\n",
    "# epoch = 5\n",
    "# recall_new = tensor([0.9982, 0.9165, 0.7800, 0.5714]), precision_new = tensor([0.9974, 0.9186, 0.8948, 0.7917]), f1_new = tensor(0.8531)\n",
    "# recall_new = tensor([0.9993, 0.9772, 0.9153, 0.7732]), precision_new = tensor([0.9991, 0.9829, 0.9271, 0.7629]), f1_new = tensor(0.9171)\n",
    "# recall_new = tensor([0.9991, 0.9702, 0.8847, 0.7265]), precision_new = tensor([0.9988, 0.9755, 0.9205, 0.7680]), f1_new = tensor(0.9052)\n",
    "\n",
    "\n",
    "# From V2 (from scratch):\n",
    "# recall_new = tensor([0.9990, 0.9039, 0.8150, 0.6692]), precision_new = tensor([0.9974, 0.9606, 0.8940, 0.8241]), f1_new = tensor(0.8802)\n",
    "# recall_new = tensor([0.9995, 0.9728, 0.9163, 0.7778]), precision_new = tensor([0.9990, 0.9890, 0.9280, 0.7725]), f1_new = tensor(0.9193)\n",
    "# recall_new = tensor([0.9994, 0.9649, 0.8934, 0.7526]), precision_new = tensor([0.9987, 0.9858, 0.9208, 0.7826]), f1_new = tensor(0.9121)\n"
   ]
  },
  {
   "cell_type": "code",
   "execution_count": 16,
   "id": "2232292c",
   "metadata": {
    "ExecuteTime": {
     "end_time": "2023-03-05T13:21:35.696215Z",
     "start_time": "2023-03-05T13:02:08.245688Z"
    }
   },
   "outputs": [
    {
     "name": "stdout",
     "output_type": "stream",
     "text": [
      "4-BERT-emendas-from-scratch\n"
     ]
    },
    {
     "data": {
      "application/vnd.jupyter.widget-view+json": {
       "model_id": "fc1eda1252de494ca92d067d3d37eedd",
       "version_major": 2,
       "version_minor": 0
      },
      "text/plain": [
       "  0%|          | 0/51 [00:00<?, ?it/s]"
      ]
     },
     "metadata": {},
     "output_type": "display_data"
    },
    {
     "name": "stdout",
     "output_type": "stream",
     "text": [
      "recall_new = tensor([0.9976, 0.8037, 0.6917, 0.5865]), precision_new = tensor([0.9950, 0.9029, 0.8012, 0.6783]), f1_new = tensor(0.8045)\n"
     ]
    },
    {
     "data": {
      "application/vnd.jupyter.widget-view+json": {
       "model_id": "d6bda527c4344e628b77b840ba6deab4",
       "version_major": 2,
       "version_minor": 0
      },
      "text/plain": [
       "  0%|          | 0/384 [00:00<?, ?it/s]"
      ]
     },
     "metadata": {},
     "output_type": "display_data"
    },
    {
     "name": "stdout",
     "output_type": "stream",
     "text": [
      "recall_new = tensor([0.9994, 0.9752, 0.9217, 0.7755]), precision_new = tensor([0.9991, 0.9872, 0.9262, 0.7720]), f1_new = tensor(0.9195)\n"
     ]
    },
    {
     "data": {
      "application/vnd.jupyter.widget-view+json": {
       "model_id": "406dfa5e49c840928105f138eeb2b42b",
       "version_major": 2,
       "version_minor": 0
      },
      "text/plain": [
       "  0%|          | 0/434 [00:00<?, ?it/s]"
      ]
     },
     "metadata": {},
     "output_type": "display_data"
    },
    {
     "name": "stdout",
     "output_type": "stream",
     "text": [
      "recall_new = tensor([0.9991, 0.9554, 0.8697, 0.7317]), precision_new = tensor([0.9984, 0.9784, 0.9009, 0.7527]), f1_new = tensor(0.8981)\n",
      "4-BERT-emendas-finetuning\n"
     ]
    },
    {
     "data": {
      "application/vnd.jupyter.widget-view+json": {
       "model_id": "447212dc9a044302a78d7806b46a56fa",
       "version_major": 2,
       "version_minor": 0
      },
      "text/plain": [
       "  0%|          | 0/51 [00:00<?, ?it/s]"
      ]
     },
     "metadata": {},
     "output_type": "display_data"
    },
    {
     "name": "stdout",
     "output_type": "stream",
     "text": [
      "recall_new = tensor([0.9989, 0.9065, 0.8133, 0.6617]), precision_new = tensor([0.9975, 0.9506, 0.9071, 0.8224]), f1_new = tensor(0.8793)\n"
     ]
    },
    {
     "data": {
      "application/vnd.jupyter.widget-view+json": {
       "model_id": "635d0fc9c87547068578031b5bc1caa2",
       "version_major": 2,
       "version_minor": 0
      },
      "text/plain": [
       "  0%|          | 0/384 [00:00<?, ?it/s]"
      ]
     },
     "metadata": {},
     "output_type": "display_data"
    },
    {
     "name": "stdout",
     "output_type": "stream",
     "text": [
      "recall_new = tensor([0.9994, 0.9746, 0.9187, 0.8027]), precision_new = tensor([0.9991, 0.9886, 0.9232, 0.7746]), f1_new = tensor(0.9226)\n"
     ]
    },
    {
     "data": {
      "application/vnd.jupyter.widget-view+json": {
       "model_id": "d6985cda70354e61ac2f62798b574368",
       "version_major": 2,
       "version_minor": 0
      },
      "text/plain": [
       "  0%|          | 0/434 [00:00<?, ?it/s]"
      ]
     },
     "metadata": {},
     "output_type": "display_data"
    },
    {
     "name": "stdout",
     "output_type": "stream",
     "text": [
      "recall_new = tensor([0.9994, 0.9667, 0.8949, 0.7700]), precision_new = tensor([0.9988, 0.9844, 0.9199, 0.7837]), f1_new = tensor(0.9146)\n",
      "256-LSTM-emendas\n"
     ]
    },
    {
     "data": {
      "application/vnd.jupyter.widget-view+json": {
       "model_id": "3bed1f80adde4c3a858a5e9e712579c7",
       "version_major": 2,
       "version_minor": 0
      },
      "text/plain": [
       "  0%|          | 0/51 [00:00<?, ?it/s]"
      ]
     },
     "metadata": {},
     "output_type": "display_data"
    },
    {
     "name": "stdout",
     "output_type": "stream",
     "text": [
      "recall_new = tensor([0.9982, 0.8568, 0.7967, 0.6241]), precision_new = tensor([0.9965, 0.9367, 0.8835, 0.4716]), f1_new = tensor(0.8168)\n"
     ]
    },
    {
     "data": {
      "application/vnd.jupyter.widget-view+json": {
       "model_id": "416fd32034a4459db1212f040a3a8e17",
       "version_major": 2,
       "version_minor": 0
      },
      "text/plain": [
       "  0%|          | 0/384 [00:00<?, ?it/s]"
      ]
     },
     "metadata": {},
     "output_type": "display_data"
    },
    {
     "name": "stdout",
     "output_type": "stream",
     "text": [
      "recall_new = tensor([0.9993, 0.9595, 0.8253, 0.5828]), precision_new = tensor([0.9983, 0.9841, 0.9108, 0.6946]), f1_new = tensor(0.8675)\n"
     ]
    },
    {
     "data": {
      "application/vnd.jupyter.widget-view+json": {
       "model_id": "4b983771b46849238b86573578b7f4cc",
       "version_major": 2,
       "version_minor": 0
      },
      "text/plain": [
       "  0%|          | 0/434 [00:00<?, ?it/s]"
      ]
     },
     "metadata": {},
     "output_type": "display_data"
    },
    {
     "name": "stdout",
     "output_type": "stream",
     "text": [
      "recall_new = tensor([0.9991, 0.9476, 0.8188, 0.5923]), precision_new = tensor([0.9980, 0.9789, 0.9047, 0.6227]), f1_new = tensor(0.8571)\n",
      "512-LSTM\n"
     ]
    },
    {
     "data": {
      "application/vnd.jupyter.widget-view+json": {
       "model_id": "67c887d932fc4b0f9374ff1c22d21548",
       "version_major": 2,
       "version_minor": 0
      },
      "text/plain": [
       "  0%|          | 0/51 [00:00<?, ?it/s]"
      ]
     },
     "metadata": {},
     "output_type": "display_data"
    },
    {
     "name": "stdout",
     "output_type": "stream",
     "text": [
      "recall_new = tensor([0.9980, 0.6694, 0.5017, 0.1203]), precision_new = tensor([0.9914, 0.9401, 0.7359, 0.1311]), f1_new = tensor(0.6247)\n"
     ]
    },
    {
     "data": {
      "application/vnd.jupyter.widget-view+json": {
       "model_id": "b01f0728320540728892e1a2504872c2",
       "version_major": 2,
       "version_minor": 0
      },
      "text/plain": [
       "  0%|          | 0/384 [00:00<?, ?it/s]"
      ]
     },
     "metadata": {},
     "output_type": "display_data"
    },
    {
     "name": "stdout",
     "output_type": "stream",
     "text": [
      "recall_new = tensor([0.9994, 0.9575, 0.8243, 0.5442]), precision_new = tensor([0.9982, 0.9864, 0.9137, 0.7229]), f1_new = tensor(0.8646)\n"
     ]
    },
    {
     "data": {
      "application/vnd.jupyter.widget-view+json": {
       "model_id": "93a494982fc04d6a9d85e9f0ce9fac46",
       "version_major": 2,
       "version_minor": 0
      },
      "text/plain": [
       "  0%|          | 0/434 [00:00<?, ?it/s]"
      ]
     },
     "metadata": {},
     "output_type": "display_data"
    },
    {
     "name": "stdout",
     "output_type": "stream",
     "text": [
      "recall_new = tensor([0.9992, 0.9243, 0.7514, 0.4460]), precision_new = tensor([0.9971, 0.9823, 0.8816, 0.5639]), f1_new = tensor(0.8150)\n"
     ]
    }
   ],
   "source": [
    "import torch\n",
    "\n",
    "\n",
    "def fn(logit_model_copy):    \n",
    "    recall_new, precision_new, f1_new = eval_model(logit_model_copy, dl_test=dl_test_emendas, device=\"cuda\")\n",
    "    print(f\"{recall_new = }, {precision_new = }, {f1_new = }\")\n",
    "\n",
    "    recall_new, precision_new, f1_new = eval_model(logit_model_copy, dl_test=dl_test_orig, device=\"cuda\")\n",
    "    print(f\"{recall_new = }, {precision_new = }, {f1_new = }\")\n",
    "\n",
    "    recall_new, precision_new, f1_new = eval_model(logit_model_copy, dl_test=dl_test_both, device=\"cuda\")\n",
    "    print(f\"{recall_new = }, {precision_new = }, {f1_new = }\")\n",
    "    \n",
    "\n",
    "print(\"4-BERT-emendas-finetuning\")\n",
    "logit_model = segmentador.BERTSegmenter(\"../segmenter_checkpoint_v2/4_6000_layer_model_finetuned_emendas_old\").model\n",
    "fn(logit_model)\n",
    "\n",
    "print(\"4-BERT-emendas-from-sratch\")\n",
    "logit_model = segmentador.BERTSegmenter(\"../segmenter_checkpoint_v2/4_6000_layer_model_finetuned_emendas\").model\n",
    "fn(logit_model)\n",
    "    \n",
    "print(\"256-LSTM-emendas\")\n",
    "logit_model = segmentador.LSTMSegmenter(\n",
    "    uri_model=\"../segmenter_checkpoint_v2/256_6000_1_lstm_emendas/checkpoints/epoch=9-step=12489.ckpt\",\n",
    "    device=\"cpu\",\n",
    ").model\n",
    "fn(logit_model)\n",
    "\n",
    "print(\"512-LSTM\")\n",
    "logit_model = segmentador.LSTMSegmenter(\n",
    "    uri_model=(\n",
    "        \"../segmenter_checkpoint_v2/512_6000_1_lstm/checkpoints/512_hidden_dim_6000_vocab_size_1_layer_lstm.pt\"\n",
    "    ),\n",
    "    device=\"cpu\",\n",
    ").model\n",
    "fn(logit_model)"
   ]
  }
 ],
 "metadata": {
  "kernelspec": {
   "display_name": "Python 3",
   "language": "python",
   "name": "python3"
  },
  "language_info": {
   "codemirror_mode": {
    "name": "ipython",
    "version": 3
   },
   "file_extension": ".py",
   "mimetype": "text/x-python",
   "name": "python",
   "nbconvert_exporter": "python",
   "pygments_lexer": "ipython3",
   "version": "3.9.10"
  },
  "latex_envs": {
   "LaTeX_envs_menu_present": true,
   "autoclose": false,
   "autocomplete": true,
   "bibliofile": "biblio.bib",
   "cite_by": "apalike",
   "current_citInitial": 1,
   "eqLabelWithNumbers": true,
   "eqNumInitial": 1,
   "hotkeys": {
    "equation": "Ctrl-E",
    "itemize": "Ctrl-I"
   },
   "labels_anchors": false,
   "latex_user_defs": false,
   "report_style_numbering": false,
   "user_envs_cfg": false
  },
  "toc": {
   "base_numbering": 1,
   "nav_menu": {},
   "number_sections": true,
   "sideBar": true,
   "skip_h1_title": false,
   "title_cell": "Table of Contents",
   "title_sidebar": "Contents",
   "toc_cell": false,
   "toc_position": {},
   "toc_section_display": true,
   "toc_window_display": false
  }
 },
 "nbformat": 4,
 "nbformat_minor": 5
}
